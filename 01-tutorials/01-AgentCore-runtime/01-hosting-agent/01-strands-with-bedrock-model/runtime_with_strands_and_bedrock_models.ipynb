{
 "cells": [
  {
   "cell_type": "markdown",
   "id": "5c0122e65c053f38",
   "metadata": {},
   "source": [
    "# Hosting Strands Agents with Amazon Bedrock models in Amazon Bedrock AgentCore Runtime\n",
    "\n",
    "## Overview\n",
    "\n",
    "In this tutorial we will learn how to host your existing agent, using Amazon Bedrock AgentCore Runtime. We will provide examples using Amazon Bedrock models and non-Bedrock models such as Azure OpenAI and Gemini.\n",
    "\n",
    "\n",
    "### Tutorial Details\n",
    "\n",
    "\n",
    "| Information         | Details                                                                          |\n",
    "|:--------------------|:---------------------------------------------------------------------------------|\n",
    "| Tutorial type       | Conversational                                                                   |\n",
    "| Agent type          | Single                                                                           |\n",
    "| Agentic Framework   | Strands Agents                                                                   |\n",
    "| LLM model           | Anthropic Claude Sonnet 4                                                        |\n",
    "| Tutorial components | Hosting agent on AgentCore Runtime. Using Strands Agent and Amazon Bedrock Model |\n",
    "| Tutorial vertical   | Cross-vertical                                                                   |\n",
    "| Example complexity  | Easy                                                                             |\n",
    "| SDK used            | Amazon BedrockAgentCore Python SDK and boto3                                     |\n",
    "\n",
    "### Tutorial Architecture\n",
    "\n",
    "In this tutorial we will describe how to deploy an existing agent to AgentCore runtime. \n",
    "\n",
    "For demonstration purposes, we will  use a Strands Agent using Amazon Bedrock models\n",
    "\n",
    "In our example we will use a very simple agent with two tools: `get_weather` and `get_time`. \n",
    "\n",
    "<div style=\"text-align:left\">\n",
    "    <img src=\"images/architecture_runtime.png\" width=\"50%\"/>\n",
    "</div>\n",
    "\n",
    "### Tutorial Key Features\n",
    "\n",
    "* Hosting Agents on Amazon Bedrock AgentCore Runtime\n",
    "* Using Amazon Bedrock models\n",
    "* Using Strands Agents\n"
   ]
  },
  {
   "cell_type": "markdown",
   "id": "3a676f58ecf52b42",
   "metadata": {},
   "source": [
    "## Prerequisites\n",
    "\n",
    "To execute this tutorial you will need:\n",
    "* Python 3.10+\n",
    "* AWS credentials\n",
    "* Amazon Bedrock AgentCore SDK\n",
    "* Strands Agents\n",
    "* Docker running"
   ]
  },
  {
   "cell_type": "code",
   "execution_count": 1,
   "id": "initial_id",
   "metadata": {
    "jupyter": {
     "is_executing": true
    }
   },
   "outputs": [
    {
     "name": "stdout",
     "output_type": "stream",
     "text": [
      "\u001b[2mResolved \u001b[1m208 packages\u001b[0m \u001b[2min 12ms\u001b[0m\u001b[0m\n",
      "\u001b[2mAudited \u001b[1m200 packages\u001b[0m \u001b[2min 0.55ms\u001b[0m\u001b[0m\n"
     ]
    }
   ],
   "source": [
    "!uv add -r requirements.txt --active"
   ]
  },
  {
   "cell_type": "markdown",
   "id": "ca924a7a2731e26f",
   "metadata": {},
   "source": [
    "## Creating your agents and experimenting locally\n",
    "\n",
    "Before we deploy our agents to AgentCore Runtime, let's develop and run them locally for experimentation purposes.\n",
    "\n",
    "For production agentic applications we will need to decouple the agent creation process from the agent invocation one. With AgentCore Runtime, we will decorate the invocation part of our agent with the `@app.entrypoint` decorator and have it as the entry point for our runtime. Let's first look how each agent is developed during the experimentation phase.\n",
    "\n",
    "The architecture here will look as following:\n",
    "\n",
    "<div style=\"text-align:left\">\n",
    "    <img src=\"images/architecture_local.png\" width=\"50%\"/>\n",
    "</div>"
   ]
  },
  {
   "cell_type": "code",
   "execution_count": 2,
   "id": "b7d386ab54e85e63",
   "metadata": {},
   "outputs": [
    {
     "name": "stdout",
     "output_type": "stream",
     "text": [
      "Overwriting strands_claude.py\n"
     ]
    }
   ],
   "source": [
    "%%writefile strands_claude.py\n",
    "from strands import Agent, tool\n",
    "from strands_tools import calculator # Import the calculator tool\n",
    "import argparse\n",
    "import json\n",
    "from strands.models import BedrockModel\n",
    "\n",
    "# Create a custom tool \n",
    "@tool\n",
    "def weather():\n",
    "    \"\"\" Get weather \"\"\" # Dummy implementation\n",
    "    return \"sunny\"\n",
    "\n",
    "\n",
    "model_id = \"us.anthropic.claude-sonnet-4-20250514-v1:0\"\n",
    "model = BedrockModel(\n",
    "    model_id=model_id,\n",
    ")\n",
    "agent = Agent(\n",
    "    model=model,\n",
    "    tools=[calculator, weather],\n",
    "    system_prompt=\"You're a helpful assistant. You can do simple math calculation, and tell the weather.\"\n",
    ")\n",
    "\n",
    "def strands_agent_bedrock(payload):\n",
    "    \"\"\"\n",
    "    Invoke the agent with a payload\n",
    "    \"\"\"\n",
    "    user_input = payload.get(\"prompt\")\n",
    "    response = agent(user_input)\n",
    "    return response.message['content'][0]['text']\n",
    "\n",
    "if __name__ == \"__main__\":\n",
    "    parser = argparse.ArgumentParser()\n",
    "    parser.add_argument(\"payload\", type=str)\n",
    "    args = parser.parse_args()\n",
    "    response = strands_agent_bedrock(json.loads(args.payload))\n",
    "    print(response)"
   ]
  },
  {
   "cell_type": "markdown",
   "id": "68499675-db8d-47c6-8c0c-5d66dcb06229",
   "metadata": {},
   "source": [
    "#### Invoking local agent"
   ]
  },
  {
   "cell_type": "code",
   "execution_count": 3,
   "id": "1226d59e6b56c96",
   "metadata": {
    "ExecuteTime": {
     "end_time": "2025-06-29T21:52:06.461281Z",
     "start_time": "2025-06-29T21:52:06.456854Z"
    }
   },
   "outputs": [
    {
     "name": "stdout",
     "output_type": "stream",
     "text": [
      "I'll check the current weather for you.\n",
      "Tool #1: weather\n",
      "The current weather is sunny! It looks like a beautiful day outside.The current weather is sunny! It looks like a beautiful day outside.\n"
     ]
    }
   ],
   "source": [
    "!python strands_claude.py '{\"prompt\": \"What is the weather now?\"}'"
   ]
  },
  {
   "cell_type": "markdown",
   "id": "932110e6-fca6-47b6-b7c5-c4714a866a80",
   "metadata": {},
   "source": [
    "## Preparing your agent for deployment on AgentCore Runtime\n",
    "\n",
    "Let's now deploy our agents to AgentCore Runtime. To do so we need to:\n",
    "* Import the Runtime App with `from bedrock_agentcore.runtime import BedrockAgentCoreApp`\n",
    "* Initialize the App in our code with `app = BedrockAgentCoreApp()`\n",
    "* Decorate the invocation function with the `@app.entrypoint` decorator\n",
    "* Let AgentCoreRuntime control the running of the agent with `app.run()`\n",
    "\n",
    "### Strands Agents with Amazon Bedrock model\n",
    "Let's start with our Strands Agent using Amazon Bedrock model. All the others will work exactly the same."
   ]
  },
  {
   "cell_type": "code",
   "execution_count": 4,
   "id": "3b845b32-a03e-45c2-a2f0-2afba8069f47",
   "metadata": {},
   "outputs": [
    {
     "name": "stdout",
     "output_type": "stream",
     "text": [
      "Overwriting strands_claude.py\n"
     ]
    }
   ],
   "source": [
    "%%writefile strands_claude.py\n",
    "from strands import Agent, tool\n",
    "from strands_tools import calculator # Import the calculator tool\n",
    "import argparse\n",
    "import json\n",
    "from bedrock_agentcore.runtime import BedrockAgentCoreApp\n",
    "from strands.models import BedrockModel\n",
    "\n",
    "app = BedrockAgentCoreApp()\n",
    "\n",
    "# Create a custom tool \n",
    "@tool\n",
    "def weather():\n",
    "    \"\"\" Get weather \"\"\" # Dummy implementation\n",
    "    return \"sunny\"\n",
    "\n",
    "\n",
    "model_id = \"us.anthropic.claude-sonnet-4-20250514-v1:0\"\n",
    "model = BedrockModel(\n",
    "    model_id=model_id,\n",
    ")\n",
    "agent = Agent(\n",
    "    model=model,\n",
    "    tools=[calculator, weather],\n",
    "    system_prompt=\"You're a helpful assistant. You can do simple math calculation, and tell the weather.\"\n",
    ")\n",
    "\n",
    "@app.entrypoint\n",
    "def strands_agent_bedrock(payload):\n",
    "    \"\"\"\n",
    "    Invoke the agent with a payload\n",
    "    \"\"\"\n",
    "    user_input = payload.get(\"prompt\")\n",
    "    print(\"User input:\", user_input)\n",
    "    response = agent(user_input)\n",
    "    return response.message['content'][0]['text']\n",
    "\n",
    "if __name__ == \"__main__\":\n",
    "    app.run()"
   ]
  },
  {
   "cell_type": "markdown",
   "id": "c64db7b5-0f1b-475f-9bf2-467b4449d46a",
   "metadata": {},
   "source": [
    "## What happens behind the scenes?\n",
    "\n",
    "When you use `BedrockAgentCoreApp`, it automatically:\n",
    "\n",
    "* Creates an HTTP server that listens on the port 8080\n",
    "* Implements the required `/invocations` endpoint for processing the agent's requirements\n",
    "* Implements the `/ping` endpoint for health checks (very important for asynchronous agents)\n",
    "* Handles proper content types and response formats\n",
    "* Manages error handling according to the AWS standards"
   ]
  },
  {
   "cell_type": "markdown",
   "id": "6820ca8f-a8a8-4f34-b4ef-b6dad3776261",
   "metadata": {},
   "source": [
    "## Deploying the agent to AgentCore Runtime\n",
    "\n",
    "The `CreateAgentRuntime` operation supports comprehensive configuration options, letting you specify container images, environment variables and encryption settings. You can also configure protocol settings (HTTP, MCP) and authorization mechanisms to control how your clients communicate with the agent. \n",
    "\n",
    "**Note:** Operations best practice is to package code as container and push to ECR using CI/CD pipelines and IaC\n",
    "\n",
    "In this tutorial can will the Amazon Bedrock AgentCode Python SDK to easily package your artifacts and deploy them to AgentCore runtime."
   ]
  },
  {
   "cell_type": "markdown",
   "id": "d0861401-a111-4ade-9e02-50f52fdfa9b1",
   "metadata": {},
   "source": [
    "### Creating runtime role\n",
    "\n",
    "Before starting, let's create an IAM role for our AgentCore Runtime. We will do so using the utils function pre-developed for you."
   ]
  },
  {
   "cell_type": "code",
   "execution_count": 5,
   "id": "54dd2fdf-985c-4a70-8b87-071783a209de",
   "metadata": {},
   "outputs": [
    {
     "name": "stdout",
     "output_type": "stream",
     "text": [
      "Role already exists -- deleting and creating it again\n",
      "policies: {'PolicyNames': ['AgentCorePolicy'], 'IsTruncated': False, 'ResponseMetadata': {'RequestId': '78232eb3-2d3c-41c2-a4cd-3ac6332465ab', 'HTTPStatusCode': 200, 'HTTPHeaders': {'date': 'Sat, 19 Jul 2025 06:46:10 GMT', 'x-amzn-requestid': '78232eb3-2d3c-41c2-a4cd-3ac6332465ab', 'content-type': 'text/xml', 'content-length': '380'}, 'RetryAttempts': 0}}\n",
      "deleting agentcore-strands_claude-role\n",
      "recreating agentcore-strands_claude-role\n",
      "attaching role policy agentcore-strands_claude-role\n"
     ]
    }
   ],
   "source": [
    "import sys\n",
    "import os\n",
    "\n",
    "# Get the current notebook's directory\n",
    "current_dir = os.path.dirname(os.path.abspath('__file__' if '__file__' in globals() else '.'))\n",
    "\n",
    "# Navigate up to the utils.py location\n",
    "utils_dir = os.path.join(current_dir, '..')\n",
    "utils_dir = os.path.abspath(utils_dir)\n",
    "\n",
    "# Add to sys.path\n",
    "sys.path.insert(0, utils_dir)\n",
    "\n",
    "from utils import create_agentcore_role\n",
    "\n",
    "agent_name=\"strands_claude\"\n",
    "agentcore_iam_role = create_agentcore_role(agent_name=agent_name)"
   ]
  },
  {
   "cell_type": "markdown",
   "id": "8855aceb-b79f-4aaa-b16f-8577c059816a",
   "metadata": {},
   "source": [
    "### Configure AgentCore Runtime deployment\n",
    "\n",
    "Next we will use our starter toolkit to configure the AgentCore Runtime deployment with an entrypoint, the execution role we just created and a requirements file. We will also configure the starter kit to auto create the Amazon ECR repository on launch.\n",
    "\n",
    "During the configure step, your docker file will be generated based on your application code\n",
    "\n",
    "<div style=\"text-align:left\">\n",
    "    <img src=\"images/configure.png\" width=\"40%\"/>\n",
    "</div>"
   ]
  },
  {
   "cell_type": "code",
   "execution_count": 6,
   "id": "2e79eba2-ca59-463f-9ebf-56e362d7ae66",
   "metadata": {},
   "outputs": [
    {
     "name": "stderr",
     "output_type": "stream",
     "text": [
      "Bedrock AgentCore configured: /Users/youngjik/Documents/GitHub/amazon-bedrock-agentcore-samples/01-tutorials/01-AgentCore-runtime/01-hosting-agent/01-strands-with-bedrock-model/.bedrock_agentcore.yaml\n"
     ]
    },
    {
     "data": {
      "text/plain": [
       "ConfigureResult(config_path=PosixPath('/Users/youngjik/Documents/GitHub/amazon-bedrock-agentcore-samples/01-tutorials/01-AgentCore-runtime/01-hosting-agent/01-strands-with-bedrock-model/.bedrock_agentcore.yaml'), dockerfile_path=PosixPath('/Users/youngjik/Documents/GitHub/amazon-bedrock-agentcore-samples/01-tutorials/01-AgentCore-runtime/01-hosting-agent/01-strands-with-bedrock-model/Dockerfile'), dockerignore_path=PosixPath('/Users/youngjik/Documents/GitHub/amazon-bedrock-agentcore-samples/01-tutorials/01-AgentCore-runtime/01-hosting-agent/01-strands-with-bedrock-model/.dockerignore'), runtime='Docker', region='us-west-2', account_id='720025708473', execution_role='arn:aws:iam::720025708473:role/agentcore-strands_claude-role', ecr_repository=None, auto_create_ecr=True)"
      ]
     },
     "execution_count": 6,
     "metadata": {},
     "output_type": "execute_result"
    }
   ],
   "source": [
    "from bedrock_agentcore_starter_toolkit import Runtime\n",
    "from boto3.session import Session\n",
    "boto_session = Session()\n",
    "region = boto_session.region_name\n",
    "region\n",
    "\n",
    "agentcore_runtime = Runtime()\n",
    "\n",
    "response = agentcore_runtime.configure(\n",
    "    entrypoint=\"strands_claude.py\",\n",
    "    execution_role=agentcore_iam_role['Role']['Arn'],\n",
    "    auto_create_ecr=True,\n",
    "    requirements_file=\"requirements.txt\",\n",
    "    region=region,\n",
    "    agent_name=agent_name+\"2\"\n",
    ")\n",
    "response"
   ]
  },
  {
   "cell_type": "markdown",
   "id": "9e1b84cc-798e-472c-ac0b-2c315f4b704d",
   "metadata": {},
   "source": [
    "### Launching agent to AgentCore Runtime\n",
    "\n",
    "Now that we've got a docker file, let's launch the agent to the AgentCore Runtime. This will create the Amazon ECR repository and the AgentCore Runtime\n",
    "\n",
    "<div style=\"text-align:left\">\n",
    "    <img src=\"images/launch.png\" width=\"75%\"/>\n",
    "</div>"
   ]
  },
  {
   "cell_type": "code",
   "execution_count": 7,
   "id": "17a32ab8-7701-4900-8055-e24364bdf35c",
   "metadata": {},
   "outputs": [
    {
     "name": "stderr",
     "output_type": "stream",
     "text": [
      "Build: #9 12.99 ERROR: pip's dependency resolver does not currently take into account all the packages that are installed. This behaviour is the source of the following dependency conflicts.\n"
     ]
    },
    {
     "name": "stdout",
     "output_type": "stream",
     "text": [
      "The push refers to repository [720025708473.dkr.ecr.us-west-2.amazonaws.com/bedrock_agentcore-strands_claude2]\n",
      "8993cdb3c629: Preparing\n",
      "c3d9bf5eadc2: Preparing\n",
      "9f45f56a4187: Preparing\n",
      "8498c9e4a8e2: Preparing\n",
      "f1c21e71c58f: Preparing\n",
      "14f24c28b3fe: Preparing\n",
      "e47c67136f39: Preparing\n",
      "83ab85380878: Preparing\n",
      "58d7b7786e98: Preparing\n",
      "14f24c28b3fe: Waiting\n",
      "e47c67136f39: Waiting\n",
      "83ab85380878: Waiting\n",
      "58d7b7786e98: Waiting\n",
      "8993cdb3c629: Pushed\n",
      "f1c21e71c58f: Pushed\n",
      "8498c9e4a8e2: Pushed\n",
      "14f24c28b3fe: Pushed\n",
      "83ab85380878: Pushed\n",
      "c3d9bf5eadc2: Pushed\n",
      "e47c67136f39: Pushed\n",
      "58d7b7786e98: Pushed\n",
      "9f45f56a4187: Pushed\n",
      "latest: digest: sha256:b1ddb734ca076b19504645ae2a4fe4bfac8c66f3ae59cb3d76eca9a97491782f size: 2207\n"
     ]
    },
    {
     "name": "stderr",
     "output_type": "stream",
     "text": [
      "Deployed to cloud: arn:aws:bedrock-agentcore:us-west-2:720025708473:runtime/strands_claude2-GVEFVt6PIq\n",
      "🔍 Agent logs available at:\n",
      "   /aws/bedrock-agentcore/runtimes/strands_claude2-GVEFVt6PIq-DEFAULT\n",
      "   /aws/bedrock-agentcore/runtimes/strands_claude2-GVEFVt6PIq-DEFAULT/runtime-logs\n",
      "💡 Tail logs with: aws logs tail /aws/bedrock-agentcore/runtimes/strands_claude2-GVEFVt6PIq-DEFAULT --follow\n",
      "💡 Or view recent logs: aws logs tail /aws/bedrock-agentcore/runtimes/strands_claude2-GVEFVt6PIq-DEFAULT --since 1h\n"
     ]
    },
    {
     "data": {
      "text/plain": [
       "LaunchResult(mode='cloud', tag='bedrock_agentcore-strands_claude2:latest', env_vars=None, port=None, runtime=None, ecr_uri='720025708473.dkr.ecr.us-west-2.amazonaws.com/bedrock_agentcore-strands_claude2', agent_id='strands_claude2-GVEFVt6PIq', agent_arn='arn:aws:bedrock-agentcore:us-west-2:720025708473:runtime/strands_claude2-GVEFVt6PIq', build_output=['#0 building with \"default\" instance using docker driver', '#1 [internal] load build definition from Dockerfile', '#1 transferring dockerfile: 786B done', '#1 DONE 0.0s', '#2 [internal] load metadata for public.ecr.aws/docker/library/python:3.10-slim', '#2 DONE 2.2s', '#3 [internal] load .dockerignore', '#3 transferring context: 744B done', '#3 DONE 0.0s', '#4 [internal] load build context', '#4 transferring context: 1.22MB 0.0s done', '#4 DONE 0.0s', '#5 [1/6] FROM public.ecr.aws/docker/library/python:3.10-slim@sha256:9dd6774a1276178f94b0cc1fb1f0edd980825d0ea7634847af9940b1b6273c13', '#5 resolve public.ecr.aws/docker/library/python:3.10-slim@sha256:9dd6774a1276178f94b0cc1fb1f0edd980825d0ea7634847af9940b1b6273c13 0.0s done', '#5 sha256:45b7903c00d4ae5de4795fb6d4ef46b19c2e66f69414def8a63d4e4fdda564fc 1.75kB / 1.75kB done', '#5 sha256:90c577aa2729f998a01ec162201bca48965cf23b554b744eaa8186d33bdf97ff 5.39kB / 5.39kB done', '#5 sha256:63a0a150e076652e6aed9e35542ba0ef92d7cb84f7b32602e983ee8fe569b968 0B / 15.58MB 0.1s', '#5 sha256:9c3d1dc368c9622678f28cd7734ebb6a5a07559ea02096e9a47eff462bfb1247 0B / 249B 0.1s', '#5 sha256:9dd6774a1276178f94b0cc1fb1f0edd980825d0ea7634847af9940b1b6273c13 9.13kB / 9.13kB done', '#5 sha256:9c3d1dc368c9622678f28cd7734ebb6a5a07559ea02096e9a47eff462bfb1247 249B / 249B 0.8s', '#5 sha256:9c3d1dc368c9622678f28cd7734ebb6a5a07559ea02096e9a47eff462bfb1247 249B / 249B 0.8s done', '#5 sha256:63a0a150e076652e6aed9e35542ba0ef92d7cb84f7b32602e983ee8fe569b968 2.10MB / 15.58MB 1.4s', '#5 sha256:63a0a150e076652e6aed9e35542ba0ef92d7cb84f7b32602e983ee8fe569b968 3.15MB / 15.58MB 1.6s', '#5 sha256:63a0a150e076652e6aed9e35542ba0ef92d7cb84f7b32602e983ee8fe569b968 5.24MB / 15.58MB 1.8s', '#5 sha256:63a0a150e076652e6aed9e35542ba0ef92d7cb84f7b32602e983ee8fe569b968 8.39MB / 15.58MB 2.0s', '#5 sha256:63a0a150e076652e6aed9e35542ba0ef92d7cb84f7b32602e983ee8fe569b968 11.53MB / 15.58MB 2.2s', '#5 sha256:63a0a150e076652e6aed9e35542ba0ef92d7cb84f7b32602e983ee8fe569b968 13.48MB / 15.58MB 2.3s', '#5 sha256:63a0a150e076652e6aed9e35542ba0ef92d7cb84f7b32602e983ee8fe569b968 14.68MB / 15.58MB 2.4s', '#5 extracting sha256:63a0a150e076652e6aed9e35542ba0ef92d7cb84f7b32602e983ee8fe569b968', '#5 sha256:63a0a150e076652e6aed9e35542ba0ef92d7cb84f7b32602e983ee8fe569b968 15.58MB / 15.58MB 2.4s done', '#5 extracting sha256:63a0a150e076652e6aed9e35542ba0ef92d7cb84f7b32602e983ee8fe569b968 1.0s done', '#5 extracting sha256:9c3d1dc368c9622678f28cd7734ebb6a5a07559ea02096e9a47eff462bfb1247', '#5 extracting sha256:9c3d1dc368c9622678f28cd7734ebb6a5a07559ea02096e9a47eff462bfb1247 done', '#5 DONE 3.5s', '#6 [2/6] WORKDIR /app', '#6 DONE 0.1s', '#7 [3/6] COPY . .', '#7 DONE 0.0s', '#8 [4/6] RUN python -m pip install --no-cache-dir -r requirements.txt', '#8 1.684 Collecting strands-agents', '#8 1.767   Downloading strands_agents-1.0.1-py3-none-any.whl (162 kB)', '#8 1.792      ━━━━━━━━━━━━━━━━━━━━━━━━━━━━━━━━━━━━━━━ 162.9/162.9 kB 7.9 MB/s eta 0:00:00', '#8 1.814 Collecting strands-agents-tools', '#8 1.825   Downloading strands_agents_tools-0.2.1-py3-none-any.whl (229 kB)', '#8 1.838      ━━━━━━━━━━━━━━━━━━━━━━━━━━━━━━━━━━━━━━ 229.2/229.2 kB 21.3 MB/s eta 0:00:00', '#8 2.165 Collecting uv', '#8 2.179   Downloading uv-0.8.0-py3-none-manylinux_2_28_aarch64.whl (17.5 MB)', '#8 3.242      ━━━━━━━━━━━━━━━━━━━━━━━━━━━━━━━━━━━━━━━━ 17.5/17.5 MB 16.6 MB/s eta 0:00:00', '#8 3.658 Collecting boto3', '#8 3.664   Downloading boto3-1.39.9-py3-none-any.whl (139 kB)', '#8 3.673      ━━━━━━━━━━━━━━━━━━━━━━━━━━━━━━━━━━━━━━ 139.9/139.9 kB 16.5 MB/s eta 0:00:00', '#8 3.868 Collecting bedrock-agentcore', '#8 3.875   Downloading bedrock_agentcore-0.1.0-py3-none-any.whl (48 kB)', '#8 3.882      ━━━━━━━━━━━━━━━━━━━━━━━━━━━━━━━━━━━━━━━━ 48.7/48.7 kB 8.5 MB/s eta 0:00:00', '#8 3.898 Collecting bedrock-agentcore-starter-toolkit', '#8 3.908   Downloading bedrock_agentcore_starter_toolkit-0.1.0-py3-none-any.whl (62 kB)', '#8 3.911      ━━━━━━━━━━━━━━━━━━━━━━━━━━━━━━━━━━━━━━━ 62.7/62.7 kB 134.1 MB/s eta 0:00:00', '#8 4.437 Collecting botocore<2.0.0,>=1.29.0', '#8 4.444   Downloading botocore-1.39.9-py3-none-any.whl (13.9 MB)', '#8 5.384      ━━━━━━━━━━━━━━━━━━━━━━━━━━━━━━━━━━━━━━━━ 13.9/13.9 MB 14.5 MB/s eta 0:00:00', '#8 5.431 Collecting opentelemetry-sdk<2.0.0,>=1.30.0', '#8 5.439   Downloading opentelemetry_sdk-1.35.0-py3-none-any.whl (119 kB)', '#8 5.447      ━━━━━━━━━━━━━━━━━━━━━━━━━━━━━━━━━━━━━━ 119.4/119.4 kB 52.9 MB/s eta 0:00:00', '#8 5.508 Collecting watchdog<7.0.0,>=6.0.0', '#8 5.518   Downloading watchdog-6.0.0-py3-none-manylinux2014_aarch64.whl (79 kB)', '#8 5.525      ━━━━━━━━━━━━━━━━━━━━━━━━━━━━━━━━━━━━━━━━ 79.1/79.1 kB 12.5 MB/s eta 0:00:00', '#8 5.553 Collecting typing-extensions<5.0.0,>=4.13.2', '#8 5.563   Downloading typing_extensions-4.14.1-py3-none-any.whl (43 kB)', '#8 5.567      ━━━━━━━━━━━━━━━━━━━━━━━━━━━━━━━━━━━━━━━━ 43.9/43.9 kB 41.9 MB/s eta 0:00:00', '#8 5.674 Collecting mcp<2.0.0,>=1.8.0', '#8 5.684   Downloading mcp-1.12.0-py3-none-any.whl (158 kB)', '#8 5.693      ━━━━━━━━━━━━━━━━━━━━━━━━━━━━━━━━━━━━━━ 158.5/158.5 kB 22.8 MB/s eta 0:00:00', '#8 5.715 Collecting opentelemetry-instrumentation-threading<1.00b0,>=0.51b0', '#8 5.721   Downloading opentelemetry_instrumentation_threading-0.56b0-py3-none-any.whl (9.3 kB)', '#8 5.886 Collecting pydantic<3.0.0,>=2.0.0', '#8 5.894   Downloading pydantic-2.11.7-py3-none-any.whl (444 kB)', '#8 5.920      ━━━━━━━━━━━━━━━━━━━━━━━━━━━━━━━━━━━━━━ 444.8/444.8 kB 18.3 MB/s eta 0:00:00', '#8 5.953 Collecting opentelemetry-api<2.0.0,>=1.30.0', '#8 5.963   Downloading opentelemetry_api-1.35.0-py3-none-any.whl (65 kB)', '#8 5.972      ━━━━━━━━━━━━━━━━━━━━━━━━━━━━━━━━━━━━━━━━ 65.6/65.6 kB 7.6 MB/s eta 0:00:00', '#8 5.991 Collecting docstring-parser<1.0,>=0.15', '#8 5.997   Downloading docstring_parser-0.16-py3-none-any.whl (36 kB)', '#8 6.039 Collecting aws-requests-auth<0.5.0,>=0.4.3', '#8 6.047   Downloading aws_requests_auth-0.4.3-py2.py3-none-any.whl (6.8 kB)', '#8 6.176 Collecting prompt-toolkit<4.0.0,>=3.0.51', '#8 6.182   Downloading prompt_toolkit-3.0.51-py3-none-any.whl (387 kB)', '#8 6.205      ━━━━━━━━━━━━━━━━━━━━━━━━━━━━━━━━━━━━━━ 387.8/387.8 kB 18.4 MB/s eta 0:00:00', '#8 6.224 Collecting pyjwt<3.0.0,>=2.10.1', '#8 6.231   Downloading PyJWT-2.10.1-py3-none-any.whl (22 kB)', '#8 6.254 Collecting tenacity<10.0.0,>=9.1.2', '#8 6.263   Downloading tenacity-9.1.2-py3-none-any.whl (28 kB)', '#8 6.328 Collecting rich<15.0.0,>=14.0.0', '#8 6.334   Downloading rich-14.0.0-py3-none-any.whl (243 kB)', '#8 6.350      ━━━━━━━━━━━━━━━━━━━━━━━━━━━━━━━━━━━━━━ 243.2/243.2 kB 16.2 MB/s eta 0:00:00', '#8 6.375 Collecting sympy<2.0.0,>=1.12.0', '#8 6.381   Downloading sympy-1.14.0-py3-none-any.whl (6.3 MB)', '#8 6.781      ━━━━━━━━━━━━━━━━━━━━━━━━━━━━━━━━━━━━━━━━ 6.3/6.3 MB 15.9 MB/s eta 0:00:00', '#8 6.818 Collecting markdownify<2.0.0,>=1.0.0', '#8 6.824   Downloading markdownify-1.1.0-py3-none-any.whl (13 kB)', '#8 6.915 Collecting dill<0.5.0,>=0.4.0', '#8 6.931   Downloading dill-0.4.0-py3-none-any.whl (119 kB)', '#8 6.933      ━━━━━━━━━━━━━━━━━━━━━━━━━━━━━━━━━━━━━ 119.7/119.7 kB 444.6 MB/s eta 0:00:00', '#8 6.948 Collecting readabilipy<1.0.0,>=0.2.0', '#8 6.954   Downloading readabilipy-0.3.0-py3-none-any.whl (22 kB)', '#8 7.231 Collecting pillow<12.0.0,>=11.2.1', '#8 7.244   Downloading pillow-11.3.0-cp310-cp310-manylinux_2_27_aarch64.manylinux_2_28_aarch64.whl (6.0 MB)', '#8 7.604      ━━━━━━━━━━━━━━━━━━━━━━━━━━━━━━━━━━━━━━━━ 6.0/6.0 MB 16.6 MB/s eta 0:00:00', '#8 7.645 Collecting slack-bolt<2.0.0,>=1.23.0', '#8 7.653   Downloading slack_bolt-1.23.0-py2.py3-none-any.whl (229 kB)', '#8 7.668      ━━━━━━━━━━━━━━━━━━━━━━━━━━━━━━━━━━━━━━ 229.7/229.7 kB 30.3 MB/s eta 0:00:00', '#8 7.814 Collecting s3transfer<0.14.0,>=0.13.0', '#8 7.821   Downloading s3transfer-0.13.1-py3-none-any.whl (85 kB)', '#8 7.828      ━━━━━━━━━━━━━━━━━━━━━━━━━━━━━━━━━━━━━━━━ 85.3/85.3 kB 31.2 MB/s eta 0:00:00', '#8 7.848 Collecting jmespath<2.0.0,>=0.7.1', '#8 7.854   Downloading jmespath-1.0.1-py3-none-any.whl (20 kB)', '#8 7.897 Collecting uvicorn>=0.34.2', '#8 7.904   Downloading uvicorn-0.35.0-py3-none-any.whl (66 kB)', '#8 7.911      ━━━━━━━━━━━━━━━━━━━━━━━━━━━━━━━━━━━━━━━━ 66.4/66.4 kB 13.1 MB/s eta 0:00:00', '#8 7.947 Collecting urllib3>=1.26.0', '#8 7.953   Downloading urllib3-2.5.0-py3-none-any.whl (129 kB)', '#8 7.961      ━━━━━━━━━━━━━━━━━━━━━━━━━━━━━━━━━━━━━ 129.8/129.8 kB 134.0 MB/s eta 0:00:00', '#8 7.995 Collecting starlette>=0.46.2', '#8 8.002   Downloading starlette-0.47.1-py3-none-any.whl (72 kB)', '#8 8.007      ━━━━━━━━━━━━━━━━━━━━━━━━━━━━━━━━━━━━━━━━ 72.7/72.7 kB 17.9 MB/s eta 0:00:00', '#8 8.028 Collecting toml>=0.10.2', '#8 8.034   Downloading toml-0.10.2-py2.py3-none-any.whl (16 kB)', '#8 8.069 Collecting jinja2>=3.1.6', '#8 8.077   Downloading jinja2-3.1.6-py3-none-any.whl (134 kB)', '#8 8.086      ━━━━━━━━━━━━━━━━━━━━━━━━━━━━━━━━━━━━━━ 134.9/134.9 kB 18.9 MB/s eta 0:00:00', '#8 8.117 Collecting httpx>=0.28.1', '#8 8.126   Downloading httpx-0.28.1-py3-none-any.whl (73 kB)', '#8 8.131      ━━━━━━━━━━━━━━━━━━━━━━━━━━━━━━━━━━━━━━━━ 73.5/73.5 kB 19.3 MB/s eta 0:00:00', '#8 8.238 Collecting typer>=0.16.0', '#8 8.247   Downloading typer-0.16.0-py3-none-any.whl (46 kB)', '#8 8.251      ━━━━━━━━━━━━━━━━━━━━━━━━━━━━━━━━━━━━━━━━ 46.3/46.3 kB 15.7 MB/s eta 0:00:00', '#8 8.298 Collecting pyyaml>=6.0.2', '#8 8.310   Downloading PyYAML-6.0.2-cp310-cp310-manylinux_2_17_aarch64.manylinux2014_aarch64.whl (718 kB)', '#8 8.353      ━━━━━━━━━━━━━━━━━━━━━━━━━━━━━━━━━━━━━━ 718.5/718.5 kB 17.3 MB/s eta 0:00:00', '#8 8.387 Collecting requests>=2.25.0', '#8 8.399   Downloading requests-2.32.4-py3-none-any.whl (64 kB)', '#8 8.411      ━━━━━━━━━━━━━━━━━━━━━━━━━━━━━━━━━━━━━━━━ 64.8/64.8 kB 5.0 MB/s eta 0:00:00', '#8 8.507 Collecting python-dateutil<3.0.0,>=2.1', '#8 8.514   Downloading python_dateutil-2.9.0.post0-py2.py3-none-any.whl (229 kB)', '#8 8.528      ━━━━━━━━━━━━━━━━━━━━━━━━━━━━━━━━━━━━━━ 229.9/229.9 kB 20.4 MB/s eta 0:00:00', '#8 8.572 Collecting certifi', '#8 8.579   Downloading certifi-2025.7.14-py3-none-any.whl (162 kB)', '#8 8.588      ━━━━━━━━━━━━━━━━━━━━━━━━━━━━━━━━━━━━━━ 162.7/162.7 kB 19.4 MB/s eta 0:00:00', '#8 8.608 Collecting idna', '#8 8.614   Downloading idna-3.10-py3-none-any.whl (70 kB)', '#8 8.622      ━━━━━━━━━━━━━━━━━━━━━━━━━━━━━━━━━━━━━━━━ 70.4/70.4 kB 10.8 MB/s eta 0:00:00', '#8 8.652 Collecting httpcore==1.*', '#8 8.664   Downloading httpcore-1.0.9-py3-none-any.whl (78 kB)', '#8 8.668      ━━━━━━━━━━━━━━━━━━━━━━━━━━━━━━━━━━━━━━━━ 78.8/78.8 kB 29.9 MB/s eta 0:00:00', '#8 8.696 Collecting anyio', '#8 8.704   Downloading anyio-4.9.0-py3-none-any.whl (100 kB)', '#8 8.712      ━━━━━━━━━━━━━━━━━━━━━━━━━━━━━━━━━━━━━━ 100.9/100.9 kB 19.9 MB/s eta 0:00:00', '#8 8.736 Collecting h11>=0.16', '#8 8.743   Downloading h11-0.16.0-py3-none-any.whl (37 kB)', '#8 8.880 Collecting MarkupSafe>=2.0', '#8 8.893   Downloading MarkupSafe-3.0.2-cp310-cp310-manylinux_2_17_aarch64.manylinux2014_aarch64.whl (21 kB)', '#8 8.915 Collecting six<2,>=1.15', '#8 8.929   Downloading six-1.17.0-py2.py3-none-any.whl (11 kB)', '#8 8.957 Collecting beautifulsoup4<5,>=4.9', '#8 8.967   Downloading beautifulsoup4-4.13.4-py3-none-any.whl (187 kB)', '#8 8.980      ━━━━━━━━━━━━━━━━━━━━━━━━━━━━━━━━━━━━━━ 187.3/187.3 kB 15.5 MB/s eta 0:00:00', '#8 9.014 Collecting python-multipart>=0.0.9', '#8 9.020   Downloading python_multipart-0.0.20-py3-none-any.whl (24 kB)', '#8 9.065 Collecting pydantic-settings>=2.5.2', '#8 9.074   Downloading pydantic_settings-2.10.1-py3-none-any.whl (45 kB)', '#8 9.081      ━━━━━━━━━━━━━━━━━━━━━━━━━━━━━━━━━━━━━━━━ 45.2/45.2 kB 7.3 MB/s eta 0:00:00', '#8 9.113 Collecting jsonschema>=4.20.0', '#8 9.121   Downloading jsonschema-4.25.0-py3-none-any.whl (89 kB)', '#8 9.130      ━━━━━━━━━━━━━━━━━━━━━━━━━━━━━━━━━━━━━━━━ 89.2/89.2 kB 11.7 MB/s eta 0:00:00', '#8 9.150 Collecting httpx-sse>=0.4', '#8 9.159   Downloading httpx_sse-0.4.1-py3-none-any.whl (8.1 kB)', '#8 9.195 Collecting sse-starlette>=1.6.1', '#8 9.205   Downloading sse_starlette-2.4.1-py3-none-any.whl (10 kB)', '#8 9.278 Collecting importlib-metadata<8.8.0,>=6.0', '#8 9.284   Downloading importlib_metadata-8.7.0-py3-none-any.whl (27 kB)', '#8 9.326 Collecting opentelemetry-instrumentation==0.56b0', '#8 9.334   Downloading opentelemetry_instrumentation-0.56b0-py3-none-any.whl (31 kB)', '#8 9.509 Collecting wrapt<2.0.0,>=1.0.0', '#8 9.519   Downloading wrapt-1.17.2-cp310-cp310-manylinux_2_17_aarch64.manylinux2014_aarch64.whl (83 kB)', '#8 9.526      ━━━━━━━━━━━━━━━━━━━━━━━━━━━━━━━━━━━━━━━━ 83.3/83.3 kB 13.5 MB/s eta 0:00:00', '#8 9.560 Collecting packaging>=18.0', '#8 9.570   Downloading packaging-25.0-py3-none-any.whl (66 kB)', '#8 9.577      ━━━━━━━━━━━━━━━━━━━━━━━━━━━━━━━━━━━━━━━━ 66.5/66.5 kB 10.4 MB/s eta 0:00:00', '#8 9.601 Collecting opentelemetry-semantic-conventions==0.56b0', '#8 9.610   Downloading opentelemetry_semantic_conventions-0.56b0-py3-none-any.whl (201 kB)', '#8 9.652      ━━━━━━━━━━━━━━━━━━━━━━━━━━━━━━━━━━━━━━━ 201.6/201.6 kB 4.8 MB/s eta 0:00:00', '#8 9.688 Collecting wcwidth', '#8 9.696   Downloading wcwidth-0.2.13-py2.py3-none-any.whl (34 kB)', '#8 10.75 Collecting pydantic-core==2.33.2', '#8 10.76   Downloading pydantic_core-2.33.2-cp310-cp310-manylinux_2_17_aarch64.manylinux2014_aarch64.whl (1.9 MB)', '#8 10.95      ━━━━━━━━━━━━━━━━━━━━━━━━━━━━━━━━━━━━━━━━ 1.9/1.9 MB 10.0 MB/s eta 0:00:00', '#8 10.97 Collecting annotated-types>=0.6.0', '#8 10.98   Downloading annotated_types-0.7.0-py3-none-any.whl (13 kB)', '#8 11.00 Collecting typing-inspection>=0.4.0', '#8 11.01   Downloading typing_inspection-0.4.1-py3-none-any.whl (14 kB)', '#8 11.26 Collecting lxml', '#8 11.27   Downloading lxml-6.0.0-cp310-cp310-manylinux_2_27_aarch64.manylinux_2_28_aarch64.whl (5.1 MB)', '#8 11.59      ━━━━━━━━━━━━━━━━━━━━━━━━━━━━━━━━━━━━━━━━ 5.1/5.1 MB 16.2 MB/s eta 0:00:00', '#8 12.04 Collecting regex', '#8 12.05   Downloading regex-2024.11.6-cp310-cp310-manylinux_2_17_aarch64.manylinux2014_aarch64.whl (782 kB)', '#8 12.11      ━━━━━━━━━━━━━━━━━━━━━━━━━━━━━━━━━━━━━━ 782.5/782.5 kB 14.5 MB/s eta 0:00:00', '#8 12.14 Collecting html5lib', '#8 12.15   Downloading html5lib-1.1-py2.py3-none-any.whl (112 kB)', '#8 12.16      ━━━━━━━━━━━━━━━━━━━━━━━━━━━━━━━━━━━━━━ 112.2/112.2 kB 11.8 MB/s eta 0:00:00', '#8 12.27 Collecting charset_normalizer<4,>=2', '#8 12.28   Downloading charset_normalizer-3.4.2-cp310-cp310-manylinux_2_17_aarch64.manylinux2014_aarch64.whl (144 kB)', '#8 12.29      ━━━━━━━━━━━━━━━━━━━━━━━━━━━━━━━━━━━━━━ 144.6/144.6 kB 16.2 MB/s eta 0:00:00', '#8 12.32 Collecting markdown-it-py>=2.2.0', '#8 12.33   Downloading markdown_it_py-3.0.0-py3-none-any.whl (87 kB)', '#8 12.34      ━━━━━━━━━━━━━━━━━━━━━━━━━━━━━━━━━━━━━━━━ 87.5/87.5 kB 12.4 MB/s eta 0:00:00', '#8 12.37 Collecting pygments<3.0.0,>=2.13.0', '#8 12.38   Downloading pygments-2.19.2-py3-none-any.whl (1.2 MB)', '#8 12.51      ━━━━━━━━━━━━━━━━━━━━━━━━━━━━━━━━━━━━━━━━ 1.2/1.2 MB 9.1 MB/s eta 0:00:00', '#8 12.64 Collecting slack_sdk<4,>=3.35.0', '#8 12.65   Downloading slack_sdk-3.36.0-py2.py3-none-any.whl (293 kB)', '#8 12.68      ━━━━━━━━━━━━━━━━━━━━━━━━━━━━━━━━━━━━━━ 293.9/293.9 kB 13.2 MB/s eta 0:00:00', '#8 12.71 Collecting mpmath<1.4,>=1.1.0', '#8 12.72   Downloading mpmath-1.3.0-py3-none-any.whl (536 kB)', '#8 12.77      ━━━━━━━━━━━━━━━━━━━━━━━━━━━━━━━━━━━━━━ 536.2/536.2 kB 13.0 MB/s eta 0:00:00', '#8 12.82 Collecting click>=8.0.0', '#8 12.82   Downloading click-8.2.1-py3-none-any.whl (102 kB)', '#8 12.84      ━━━━━━━━━━━━━━━━━━━━━━━━━━━━━━━━━━━━━━━ 102.2/102.2 kB 7.4 MB/s eta 0:00:00', '#8 12.86 Collecting shellingham>=1.3.0', '#8 12.87   Downloading shellingham-1.5.4-py2.py3-none-any.whl (9.8 kB)', '#8 12.94 Collecting sniffio>=1.1', '#8 12.95   Downloading sniffio-1.3.1-py3-none-any.whl (10 kB)', '#8 12.97 Collecting exceptiongroup>=1.0.2', '#8 12.97   Downloading exceptiongroup-1.3.0-py3-none-any.whl (16 kB)', '#8 13.00 Collecting soupsieve>1.2', '#8 13.01   Downloading soupsieve-2.7-py3-none-any.whl (36 kB)', '#8 13.08 Collecting zipp>=3.20', '#8 13.09   Downloading zipp-3.23.0-py3-none-any.whl (10 kB)', '#8 13.12 Collecting jsonschema-specifications>=2023.03.6', '#8 13.13   Downloading jsonschema_specifications-2025.4.1-py3-none-any.whl (18 kB)', '#8 13.16 Collecting referencing>=0.28.4', '#8 13.17   Downloading referencing-0.36.2-py3-none-any.whl (26 kB)', '#8 13.54 Collecting rpds-py>=0.7.1', '#8 13.55   Downloading rpds_py-0.26.0-cp310-cp310-manylinux_2_17_aarch64.manylinux2014_aarch64.whl (381 kB)', '#8 13.60      ━━━━━━━━━━━━━━━━━━━━━━━━━━━━━━━━━━━━━━━ 381.5/381.5 kB 7.5 MB/s eta 0:00:00', '#8 13.63 Collecting attrs>=22.2.0', '#8 13.64   Downloading attrs-25.3.0-py3-none-any.whl (63 kB)', '#8 13.65      ━━━━━━━━━━━━━━━━━━━━━━━━━━━━━━━━━━━━━━━━ 63.8/63.8 kB 7.0 MB/s eta 0:00:00', '#8 13.67 Collecting mdurl~=0.1', '#8 13.68   Downloading mdurl-0.1.2-py3-none-any.whl (10.0 kB)', '#8 13.74 Collecting python-dotenv>=0.21.0', '#8 13.74   Downloading python_dotenv-1.1.1-py3-none-any.whl (20 kB)', '#8 13.82 Collecting webencodings', '#8 13.83   Downloading webencodings-0.5.1-py2.py3-none-any.whl (11 kB)', '#8 14.21 Installing collected packages: webencodings, wcwidth, mpmath, zipp, wrapt, watchdog, uv, urllib3, typing-extensions, toml, tenacity, sympy, soupsieve, sniffio, slack_sdk, six, shellingham, rpds-py, regex, pyyaml, python-multipart, python-dotenv, pyjwt, pygments, prompt-toolkit, pillow, packaging, mdurl, MarkupSafe, lxml, jmespath, idna, httpx-sse, h11, docstring-parser, dill, click, charset_normalizer, certifi, attrs, annotated-types, uvicorn, typing-inspection, slack-bolt, requests, referencing, python-dateutil, pydantic-core, markdown-it-py, jinja2, importlib-metadata, httpcore, html5lib, exceptiongroup, beautifulsoup4, rich, readabilipy, pydantic, opentelemetry-api, markdownify, jsonschema-specifications, botocore, aws-requests-auth, anyio, typer, starlette, sse-starlette, s3transfer, pydantic-settings, opentelemetry-semantic-conventions, jsonschema, httpx, opentelemetry-sdk, opentelemetry-instrumentation, mcp, boto3, opentelemetry-instrumentation-threading, bedrock-agentcore, strands-agents, bedrock-agentcore-starter-toolkit, strands-agents-tools', '#8 21.10 Successfully installed MarkupSafe-3.0.2 annotated-types-0.7.0 anyio-4.9.0 attrs-25.3.0 aws-requests-auth-0.4.3 beautifulsoup4-4.13.4 bedrock-agentcore-0.1.0 bedrock-agentcore-starter-toolkit-0.1.0 boto3-1.39.9 botocore-1.39.9 certifi-2025.7.14 charset_normalizer-3.4.2 click-8.2.1 dill-0.4.0 docstring-parser-0.16 exceptiongroup-1.3.0 h11-0.16.0 html5lib-1.1 httpcore-1.0.9 httpx-0.28.1 httpx-sse-0.4.1 idna-3.10 importlib-metadata-8.7.0 jinja2-3.1.6 jmespath-1.0.1 jsonschema-4.25.0 jsonschema-specifications-2025.4.1 lxml-6.0.0 markdown-it-py-3.0.0 markdownify-1.1.0 mcp-1.12.0 mdurl-0.1.2 mpmath-1.3.0 opentelemetry-api-1.35.0 opentelemetry-instrumentation-0.56b0 opentelemetry-instrumentation-threading-0.56b0 opentelemetry-sdk-1.35.0 opentelemetry-semantic-conventions-0.56b0 packaging-25.0 pillow-11.3.0 prompt-toolkit-3.0.51 pydantic-2.11.7 pydantic-core-2.33.2 pydantic-settings-2.10.1 pygments-2.19.2 pyjwt-2.10.1 python-dateutil-2.9.0.post0 python-dotenv-1.1.1 python-multipart-0.0.20 pyyaml-6.0.2 readabilipy-0.3.0 referencing-0.36.2 regex-2024.11.6 requests-2.32.4 rich-14.0.0 rpds-py-0.26.0 s3transfer-0.13.1 shellingham-1.5.4 six-1.17.0 slack-bolt-1.23.0 slack_sdk-3.36.0 sniffio-1.3.1 soupsieve-2.7 sse-starlette-2.4.1 starlette-0.47.1 strands-agents-1.0.1 strands-agents-tools-0.2.1 sympy-1.14.0 tenacity-9.1.2 toml-0.10.2 typer-0.16.0 typing-extensions-4.14.1 typing-inspection-0.4.1 urllib3-2.5.0 uv-0.8.0 uvicorn-0.35.0 watchdog-6.0.0 wcwidth-0.2.13 webencodings-0.5.1 wrapt-1.17.2 zipp-3.23.0', \"#8 21.10 WARNING: Running pip as the 'root' user can result in broken permissions and conflicting behaviour with the system package manager. It is recommended to use a virtual environment instead: https://pip.pypa.io/warnings/venv\", '#8 21.20', '#8 21.20 [notice] A new release of pip is available: 23.0.1 -> 25.1.1', '#8 21.20 [notice] To update, run: pip install --upgrade pip', '#8 DONE 21.9s', '#9 [5/6] RUN python -m pip install aws_opentelemetry_distro_genai_beta>=0.1.2', \"#9 12.99 ERROR: pip's dependency resolver does not currently take into account all the packages that are installed. This behaviour is the source of the following dependency conflicts.\", '#9 12.99 opentelemetry-instrumentation-threading 0.56b0 requires opentelemetry-instrumentation==0.56b0, but you have opentelemetry-instrumentation 0.54b1 which is incompatible.', \"#9 12.99 WARNING: Running pip as the 'root' user can result in broken permissions and conflicting behaviour with the system package manager. It is recommended to use a virtual environment instead: https://pip.pypa.io/warnings/venv\", '#9 13.10', '#9 13.10 [notice] A new release of pip is available: 23.0.1 -> 25.1.1', '#9 13.10 [notice] To update, run: pip install --upgrade pip', '#9 DONE 13.4s', '#10 [6/6] RUN useradd -m -u 1000 bedrock_agentcore', '#10 DONE 0.2s', '#11 exporting to image', '#11 exporting layers', '#11 exporting layers 0.8s done', '#11 writing image sha256:4e69ff387b383dd7d8d50a6195e3390678081cf6c9fc33ec80e31eb8e7da8118', '#11 writing image sha256:4e69ff387b383dd7d8d50a6195e3390678081cf6c9fc33ec80e31eb8e7da8118 done', '#11 naming to docker.io/library/bedrock_agentcore-strands_claude2:latest done', '#11 DONE 0.9s', 'View build details: docker-desktop://dashboard/build/default/default/kms4c6yfz5w9tuve1u1mihbex'])"
      ]
     },
     "execution_count": 7,
     "metadata": {},
     "output_type": "execute_result"
    }
   ],
   "source": [
    "launch_result = agentcore_runtime.launch()\n",
    "launch_result"
   ]
  },
  {
   "cell_type": "markdown",
   "id": "a0ae9c09-09db-4a76-871a-92eacd96b9c3",
   "metadata": {},
   "source": [
    "### Checking for the AgentCore Runtime Status\n",
    "Now that we've deployed the AgentCore Runtime, let's check for it's deployment status"
   ]
  },
  {
   "cell_type": "code",
   "execution_count": 12,
   "id": "afa6ac09-9adb-4846-9fc1-4d12aeb74853",
   "metadata": {},
   "outputs": [
    {
     "name": "stderr",
     "output_type": "stream",
     "text": [
      "Retrieved Bedrock AgentCore status for: strands_claude2\n"
     ]
    },
    {
     "data": {
      "text/plain": [
       "'READY'"
      ]
     },
     "execution_count": 12,
     "metadata": {},
     "output_type": "execute_result"
    }
   ],
   "source": [
    "status_response = agentcore_runtime.status()\n",
    "status = status_response.endpoint['status']\n",
    "end_status = ['READY', 'CREATE_FAILED', 'DELETE_FAILED', 'UPDATE_FAILED']\n",
    "while status not in end_status:\n",
    "    time.sleep(10)\n",
    "    status_response = agentcore_runtime.status()\n",
    "    status = status_response.endpoint['status']\n",
    "    print(status)\n",
    "status"
   ]
  },
  {
   "cell_type": "markdown",
   "id": "b7f89c56-918a-4cab-beaa-c7ac43a2ba29",
   "metadata": {},
   "source": [
    "### Invoking AgentCore Runtime\n",
    "\n",
    "Finally, we can invoke our AgentCore Runtime with a payload\n",
    "\n",
    "<div style=\"text-align:left\">\n",
    "    <img src=\"images/invoke.png\" width=75%\"/>\n",
    "</div>"
   ]
  },
  {
   "cell_type": "code",
   "execution_count": 8,
   "id": "3d909e42-e1a0-407f-84c2-3d16cc889cd3",
   "metadata": {},
   "outputs": [
    {
     "data": {
      "text/plain": [
       "{'ResponseMetadata': {'RequestId': 'f39a8051-79ae-427f-8067-7e35bcff615b',\n",
       "  'HTTPStatusCode': 200,\n",
       "  'HTTPHeaders': {'date': 'Sat, 19 Jul 2025 06:54:21 GMT',\n",
       "   'content-type': 'application/json',\n",
       "   'transfer-encoding': 'chunked',\n",
       "   'connection': 'keep-alive',\n",
       "   'x-amzn-requestid': 'f39a8051-79ae-427f-8067-7e35bcff615b',\n",
       "   'baggage': 'Self=1-687b4118-226a34f445f7668e4a7390f1,session.id=8d89dedf-6398-4a72-9713-0e56f12d44f6',\n",
       "   'x-amzn-bedrock-agentcore-runtime-session-id': '8d89dedf-6398-4a72-9713-0e56f12d44f6',\n",
       "   'x-amzn-trace-id': 'Root=1-687b4118-354e0e0e4fd35c5a33094a5b;Self=1-687b4118-226a34f445f7668e4a7390f1'},\n",
       "  'RetryAttempts': 0},\n",
       " 'runtimeSessionId': '8d89dedf-6398-4a72-9713-0e56f12d44f6',\n",
       " 'traceId': 'Root=1-687b4118-354e0e0e4fd35c5a33094a5b;Self=1-687b4118-226a34f445f7668e4a7390f1',\n",
       " 'baggage': 'Self=1-687b4118-226a34f445f7668e4a7390f1,session.id=8d89dedf-6398-4a72-9713-0e56f12d44f6',\n",
       " 'contentType': 'application/json',\n",
       " 'statusCode': 200,\n",
       " 'response': [b'\"The weather is currently sunny! It\\'s a beautiful day outside.\"']}"
      ]
     },
     "execution_count": 8,
     "metadata": {},
     "output_type": "execute_result"
    }
   ],
   "source": [
    "invoke_response = agentcore_runtime.invoke({\"prompt\": \"How is the weather now?\"})\n",
    "invoke_response"
   ]
  },
  {
   "cell_type": "markdown",
   "id": "fefa09f2-d25a-483f-aedb-11690bb8923a",
   "metadata": {},
   "source": [
    "### Processing invocation results\n",
    "\n",
    "We can now process our invocation results to include it in an application"
   ]
  },
  {
   "cell_type": "code",
   "execution_count": 9,
   "id": "11249103-cfb3-47b5-970d-981a977a225a",
   "metadata": {},
   "outputs": [
    {
     "data": {
      "text/markdown": [
       "The weather is currently sunny! It's a beautiful day outside."
      ],
      "text/plain": [
       "<IPython.core.display.Markdown object>"
      ]
     },
     "metadata": {},
     "output_type": "display_data"
    }
   ],
   "source": [
    "from IPython.display import Markdown, display\n",
    "import json\n",
    "response_text = json.loads(invoke_response['response'][0].decode(\"utf-8\"))\n",
    "display(Markdown(response_text))"
   ]
  },
  {
   "cell_type": "markdown",
   "id": "2c1d2bce-be41-478c-8bed-b4037c385795",
   "metadata": {},
   "source": [
    "### Invoking AgentCore Runtime with boto3\n",
    "\n",
    "Now that your AgentCore Runtime was created you can invoke it with any AWS SDK. For instance, you can use the boto3 `invoke_agent_runtime` method for it."
   ]
  },
  {
   "cell_type": "code",
   "execution_count": 17,
   "id": "7f84e68d-6c04-41b9-bf5b-60edc3fa0985",
   "metadata": {},
   "outputs": [
    {
     "data": {
      "text/markdown": [
       "1289 × 345 = **444,705**입니다."
      ],
      "text/plain": [
       "<IPython.core.display.Markdown object>"
      ]
     },
     "metadata": {},
     "output_type": "display_data"
    }
   ],
   "source": [
    "import boto3\n",
    "agent_arn = launch_result.agent_arn\n",
    "agentcore_client = boto3.client(\n",
    "    'bedrock-agentcore',\n",
    "    region_name=region\n",
    ")\n",
    "\n",
    "boto3_response = agentcore_client.invoke_agent_runtime(\n",
    "    agentRuntimeArn=agent_arn,\n",
    "    qualifier=\"DEFAULT\",\n",
    "    payload=json.dumps({\"prompt\": \"1289x345는?\"})\n",
    ")\n",
    "if \"text/event-stream\" in boto3_response.get(\"contentType\", \"\"):\n",
    "    content = []\n",
    "    for line in boto3_response[\"response\"].iter_lines(chunk_size=1):\n",
    "        if line:\n",
    "            line = line.decode(\"utf-8\")\n",
    "            if line.startswith(\"data: \"):\n",
    "                line = line[6:]\n",
    "                logger.info(line)\n",
    "                content.append(line)\n",
    "    display(Markdown(\"\\n\".join(content)))\n",
    "else:\n",
    "    try:\n",
    "        events = []\n",
    "        for event in boto3_response.get(\"response\", []):\n",
    "            events.append(event)\n",
    "    except Exception as e:\n",
    "        events = [f\"Error reading EventStream: {e}\"]\n",
    "    display(Markdown(json.loads(events[0].decode(\"utf-8\"))))"
   ]
  },
  {
   "cell_type": "markdown",
   "id": "7d3fdfe404469632",
   "metadata": {},
   "source": [
    "## Cleanup (Optional)\n",
    "\n",
    "Let's now clean up the AgentCore Runtime created"
   ]
  },
  {
   "cell_type": "code",
   "execution_count": 18,
   "id": "7c243e86-a214-483c-aef1-d5243f28ca9e",
   "metadata": {},
   "outputs": [
    {
     "data": {
      "text/plain": [
       "LaunchResult(mode='cloud', tag='bedrock_agentcore-strands_claude2:latest', env_vars=None, port=None, runtime=None, ecr_uri='720025708473.dkr.ecr.us-west-2.amazonaws.com/bedrock_agentcore-strands_claude2', agent_id='strands_claude2-GVEFVt6PIq', agent_arn='arn:aws:bedrock-agentcore:us-west-2:720025708473:runtime/strands_claude2-GVEFVt6PIq', build_output=['#0 building with \"default\" instance using docker driver', '#1 [internal] load build definition from Dockerfile', '#1 transferring dockerfile: 786B done', '#1 DONE 0.0s', '#2 [internal] load metadata for public.ecr.aws/docker/library/python:3.10-slim', '#2 DONE 2.2s', '#3 [internal] load .dockerignore', '#3 transferring context: 744B done', '#3 DONE 0.0s', '#4 [internal] load build context', '#4 transferring context: 1.22MB 0.0s done', '#4 DONE 0.0s', '#5 [1/6] FROM public.ecr.aws/docker/library/python:3.10-slim@sha256:9dd6774a1276178f94b0cc1fb1f0edd980825d0ea7634847af9940b1b6273c13', '#5 resolve public.ecr.aws/docker/library/python:3.10-slim@sha256:9dd6774a1276178f94b0cc1fb1f0edd980825d0ea7634847af9940b1b6273c13 0.0s done', '#5 sha256:45b7903c00d4ae5de4795fb6d4ef46b19c2e66f69414def8a63d4e4fdda564fc 1.75kB / 1.75kB done', '#5 sha256:90c577aa2729f998a01ec162201bca48965cf23b554b744eaa8186d33bdf97ff 5.39kB / 5.39kB done', '#5 sha256:63a0a150e076652e6aed9e35542ba0ef92d7cb84f7b32602e983ee8fe569b968 0B / 15.58MB 0.1s', '#5 sha256:9c3d1dc368c9622678f28cd7734ebb6a5a07559ea02096e9a47eff462bfb1247 0B / 249B 0.1s', '#5 sha256:9dd6774a1276178f94b0cc1fb1f0edd980825d0ea7634847af9940b1b6273c13 9.13kB / 9.13kB done', '#5 sha256:9c3d1dc368c9622678f28cd7734ebb6a5a07559ea02096e9a47eff462bfb1247 249B / 249B 0.8s', '#5 sha256:9c3d1dc368c9622678f28cd7734ebb6a5a07559ea02096e9a47eff462bfb1247 249B / 249B 0.8s done', '#5 sha256:63a0a150e076652e6aed9e35542ba0ef92d7cb84f7b32602e983ee8fe569b968 2.10MB / 15.58MB 1.4s', '#5 sha256:63a0a150e076652e6aed9e35542ba0ef92d7cb84f7b32602e983ee8fe569b968 3.15MB / 15.58MB 1.6s', '#5 sha256:63a0a150e076652e6aed9e35542ba0ef92d7cb84f7b32602e983ee8fe569b968 5.24MB / 15.58MB 1.8s', '#5 sha256:63a0a150e076652e6aed9e35542ba0ef92d7cb84f7b32602e983ee8fe569b968 8.39MB / 15.58MB 2.0s', '#5 sha256:63a0a150e076652e6aed9e35542ba0ef92d7cb84f7b32602e983ee8fe569b968 11.53MB / 15.58MB 2.2s', '#5 sha256:63a0a150e076652e6aed9e35542ba0ef92d7cb84f7b32602e983ee8fe569b968 13.48MB / 15.58MB 2.3s', '#5 sha256:63a0a150e076652e6aed9e35542ba0ef92d7cb84f7b32602e983ee8fe569b968 14.68MB / 15.58MB 2.4s', '#5 extracting sha256:63a0a150e076652e6aed9e35542ba0ef92d7cb84f7b32602e983ee8fe569b968', '#5 sha256:63a0a150e076652e6aed9e35542ba0ef92d7cb84f7b32602e983ee8fe569b968 15.58MB / 15.58MB 2.4s done', '#5 extracting sha256:63a0a150e076652e6aed9e35542ba0ef92d7cb84f7b32602e983ee8fe569b968 1.0s done', '#5 extracting sha256:9c3d1dc368c9622678f28cd7734ebb6a5a07559ea02096e9a47eff462bfb1247', '#5 extracting sha256:9c3d1dc368c9622678f28cd7734ebb6a5a07559ea02096e9a47eff462bfb1247 done', '#5 DONE 3.5s', '#6 [2/6] WORKDIR /app', '#6 DONE 0.1s', '#7 [3/6] COPY . .', '#7 DONE 0.0s', '#8 [4/6] RUN python -m pip install --no-cache-dir -r requirements.txt', '#8 1.684 Collecting strands-agents', '#8 1.767   Downloading strands_agents-1.0.1-py3-none-any.whl (162 kB)', '#8 1.792      ━━━━━━━━━━━━━━━━━━━━━━━━━━━━━━━━━━━━━━━ 162.9/162.9 kB 7.9 MB/s eta 0:00:00', '#8 1.814 Collecting strands-agents-tools', '#8 1.825   Downloading strands_agents_tools-0.2.1-py3-none-any.whl (229 kB)', '#8 1.838      ━━━━━━━━━━━━━━━━━━━━━━━━━━━━━━━━━━━━━━ 229.2/229.2 kB 21.3 MB/s eta 0:00:00', '#8 2.165 Collecting uv', '#8 2.179   Downloading uv-0.8.0-py3-none-manylinux_2_28_aarch64.whl (17.5 MB)', '#8 3.242      ━━━━━━━━━━━━━━━━━━━━━━━━━━━━━━━━━━━━━━━━ 17.5/17.5 MB 16.6 MB/s eta 0:00:00', '#8 3.658 Collecting boto3', '#8 3.664   Downloading boto3-1.39.9-py3-none-any.whl (139 kB)', '#8 3.673      ━━━━━━━━━━━━━━━━━━━━━━━━━━━━━━━━━━━━━━ 139.9/139.9 kB 16.5 MB/s eta 0:00:00', '#8 3.868 Collecting bedrock-agentcore', '#8 3.875   Downloading bedrock_agentcore-0.1.0-py3-none-any.whl (48 kB)', '#8 3.882      ━━━━━━━━━━━━━━━━━━━━━━━━━━━━━━━━━━━━━━━━ 48.7/48.7 kB 8.5 MB/s eta 0:00:00', '#8 3.898 Collecting bedrock-agentcore-starter-toolkit', '#8 3.908   Downloading bedrock_agentcore_starter_toolkit-0.1.0-py3-none-any.whl (62 kB)', '#8 3.911      ━━━━━━━━━━━━━━━━━━━━━━━━━━━━━━━━━━━━━━━ 62.7/62.7 kB 134.1 MB/s eta 0:00:00', '#8 4.437 Collecting botocore<2.0.0,>=1.29.0', '#8 4.444   Downloading botocore-1.39.9-py3-none-any.whl (13.9 MB)', '#8 5.384      ━━━━━━━━━━━━━━━━━━━━━━━━━━━━━━━━━━━━━━━━ 13.9/13.9 MB 14.5 MB/s eta 0:00:00', '#8 5.431 Collecting opentelemetry-sdk<2.0.0,>=1.30.0', '#8 5.439   Downloading opentelemetry_sdk-1.35.0-py3-none-any.whl (119 kB)', '#8 5.447      ━━━━━━━━━━━━━━━━━━━━━━━━━━━━━━━━━━━━━━ 119.4/119.4 kB 52.9 MB/s eta 0:00:00', '#8 5.508 Collecting watchdog<7.0.0,>=6.0.0', '#8 5.518   Downloading watchdog-6.0.0-py3-none-manylinux2014_aarch64.whl (79 kB)', '#8 5.525      ━━━━━━━━━━━━━━━━━━━━━━━━━━━━━━━━━━━━━━━━ 79.1/79.1 kB 12.5 MB/s eta 0:00:00', '#8 5.553 Collecting typing-extensions<5.0.0,>=4.13.2', '#8 5.563   Downloading typing_extensions-4.14.1-py3-none-any.whl (43 kB)', '#8 5.567      ━━━━━━━━━━━━━━━━━━━━━━━━━━━━━━━━━━━━━━━━ 43.9/43.9 kB 41.9 MB/s eta 0:00:00', '#8 5.674 Collecting mcp<2.0.0,>=1.8.0', '#8 5.684   Downloading mcp-1.12.0-py3-none-any.whl (158 kB)', '#8 5.693      ━━━━━━━━━━━━━━━━━━━━━━━━━━━━━━━━━━━━━━ 158.5/158.5 kB 22.8 MB/s eta 0:00:00', '#8 5.715 Collecting opentelemetry-instrumentation-threading<1.00b0,>=0.51b0', '#8 5.721   Downloading opentelemetry_instrumentation_threading-0.56b0-py3-none-any.whl (9.3 kB)', '#8 5.886 Collecting pydantic<3.0.0,>=2.0.0', '#8 5.894   Downloading pydantic-2.11.7-py3-none-any.whl (444 kB)', '#8 5.920      ━━━━━━━━━━━━━━━━━━━━━━━━━━━━━━━━━━━━━━ 444.8/444.8 kB 18.3 MB/s eta 0:00:00', '#8 5.953 Collecting opentelemetry-api<2.0.0,>=1.30.0', '#8 5.963   Downloading opentelemetry_api-1.35.0-py3-none-any.whl (65 kB)', '#8 5.972      ━━━━━━━━━━━━━━━━━━━━━━━━━━━━━━━━━━━━━━━━ 65.6/65.6 kB 7.6 MB/s eta 0:00:00', '#8 5.991 Collecting docstring-parser<1.0,>=0.15', '#8 5.997   Downloading docstring_parser-0.16-py3-none-any.whl (36 kB)', '#8 6.039 Collecting aws-requests-auth<0.5.0,>=0.4.3', '#8 6.047   Downloading aws_requests_auth-0.4.3-py2.py3-none-any.whl (6.8 kB)', '#8 6.176 Collecting prompt-toolkit<4.0.0,>=3.0.51', '#8 6.182   Downloading prompt_toolkit-3.0.51-py3-none-any.whl (387 kB)', '#8 6.205      ━━━━━━━━━━━━━━━━━━━━━━━━━━━━━━━━━━━━━━ 387.8/387.8 kB 18.4 MB/s eta 0:00:00', '#8 6.224 Collecting pyjwt<3.0.0,>=2.10.1', '#8 6.231   Downloading PyJWT-2.10.1-py3-none-any.whl (22 kB)', '#8 6.254 Collecting tenacity<10.0.0,>=9.1.2', '#8 6.263   Downloading tenacity-9.1.2-py3-none-any.whl (28 kB)', '#8 6.328 Collecting rich<15.0.0,>=14.0.0', '#8 6.334   Downloading rich-14.0.0-py3-none-any.whl (243 kB)', '#8 6.350      ━━━━━━━━━━━━━━━━━━━━━━━━━━━━━━━━━━━━━━ 243.2/243.2 kB 16.2 MB/s eta 0:00:00', '#8 6.375 Collecting sympy<2.0.0,>=1.12.0', '#8 6.381   Downloading sympy-1.14.0-py3-none-any.whl (6.3 MB)', '#8 6.781      ━━━━━━━━━━━━━━━━━━━━━━━━━━━━━━━━━━━━━━━━ 6.3/6.3 MB 15.9 MB/s eta 0:00:00', '#8 6.818 Collecting markdownify<2.0.0,>=1.0.0', '#8 6.824   Downloading markdownify-1.1.0-py3-none-any.whl (13 kB)', '#8 6.915 Collecting dill<0.5.0,>=0.4.0', '#8 6.931   Downloading dill-0.4.0-py3-none-any.whl (119 kB)', '#8 6.933      ━━━━━━━━━━━━━━━━━━━━━━━━━━━━━━━━━━━━━ 119.7/119.7 kB 444.6 MB/s eta 0:00:00', '#8 6.948 Collecting readabilipy<1.0.0,>=0.2.0', '#8 6.954   Downloading readabilipy-0.3.0-py3-none-any.whl (22 kB)', '#8 7.231 Collecting pillow<12.0.0,>=11.2.1', '#8 7.244   Downloading pillow-11.3.0-cp310-cp310-manylinux_2_27_aarch64.manylinux_2_28_aarch64.whl (6.0 MB)', '#8 7.604      ━━━━━━━━━━━━━━━━━━━━━━━━━━━━━━━━━━━━━━━━ 6.0/6.0 MB 16.6 MB/s eta 0:00:00', '#8 7.645 Collecting slack-bolt<2.0.0,>=1.23.0', '#8 7.653   Downloading slack_bolt-1.23.0-py2.py3-none-any.whl (229 kB)', '#8 7.668      ━━━━━━━━━━━━━━━━━━━━━━━━━━━━━━━━━━━━━━ 229.7/229.7 kB 30.3 MB/s eta 0:00:00', '#8 7.814 Collecting s3transfer<0.14.0,>=0.13.0', '#8 7.821   Downloading s3transfer-0.13.1-py3-none-any.whl (85 kB)', '#8 7.828      ━━━━━━━━━━━━━━━━━━━━━━━━━━━━━━━━━━━━━━━━ 85.3/85.3 kB 31.2 MB/s eta 0:00:00', '#8 7.848 Collecting jmespath<2.0.0,>=0.7.1', '#8 7.854   Downloading jmespath-1.0.1-py3-none-any.whl (20 kB)', '#8 7.897 Collecting uvicorn>=0.34.2', '#8 7.904   Downloading uvicorn-0.35.0-py3-none-any.whl (66 kB)', '#8 7.911      ━━━━━━━━━━━━━━━━━━━━━━━━━━━━━━━━━━━━━━━━ 66.4/66.4 kB 13.1 MB/s eta 0:00:00', '#8 7.947 Collecting urllib3>=1.26.0', '#8 7.953   Downloading urllib3-2.5.0-py3-none-any.whl (129 kB)', '#8 7.961      ━━━━━━━━━━━━━━━━━━━━━━━━━━━━━━━━━━━━━ 129.8/129.8 kB 134.0 MB/s eta 0:00:00', '#8 7.995 Collecting starlette>=0.46.2', '#8 8.002   Downloading starlette-0.47.1-py3-none-any.whl (72 kB)', '#8 8.007      ━━━━━━━━━━━━━━━━━━━━━━━━━━━━━━━━━━━━━━━━ 72.7/72.7 kB 17.9 MB/s eta 0:00:00', '#8 8.028 Collecting toml>=0.10.2', '#8 8.034   Downloading toml-0.10.2-py2.py3-none-any.whl (16 kB)', '#8 8.069 Collecting jinja2>=3.1.6', '#8 8.077   Downloading jinja2-3.1.6-py3-none-any.whl (134 kB)', '#8 8.086      ━━━━━━━━━━━━━━━━━━━━━━━━━━━━━━━━━━━━━━ 134.9/134.9 kB 18.9 MB/s eta 0:00:00', '#8 8.117 Collecting httpx>=0.28.1', '#8 8.126   Downloading httpx-0.28.1-py3-none-any.whl (73 kB)', '#8 8.131      ━━━━━━━━━━━━━━━━━━━━━━━━━━━━━━━━━━━━━━━━ 73.5/73.5 kB 19.3 MB/s eta 0:00:00', '#8 8.238 Collecting typer>=0.16.0', '#8 8.247   Downloading typer-0.16.0-py3-none-any.whl (46 kB)', '#8 8.251      ━━━━━━━━━━━━━━━━━━━━━━━━━━━━━━━━━━━━━━━━ 46.3/46.3 kB 15.7 MB/s eta 0:00:00', '#8 8.298 Collecting pyyaml>=6.0.2', '#8 8.310   Downloading PyYAML-6.0.2-cp310-cp310-manylinux_2_17_aarch64.manylinux2014_aarch64.whl (718 kB)', '#8 8.353      ━━━━━━━━━━━━━━━━━━━━━━━━━━━━━━━━━━━━━━ 718.5/718.5 kB 17.3 MB/s eta 0:00:00', '#8 8.387 Collecting requests>=2.25.0', '#8 8.399   Downloading requests-2.32.4-py3-none-any.whl (64 kB)', '#8 8.411      ━━━━━━━━━━━━━━━━━━━━━━━━━━━━━━━━━━━━━━━━ 64.8/64.8 kB 5.0 MB/s eta 0:00:00', '#8 8.507 Collecting python-dateutil<3.0.0,>=2.1', '#8 8.514   Downloading python_dateutil-2.9.0.post0-py2.py3-none-any.whl (229 kB)', '#8 8.528      ━━━━━━━━━━━━━━━━━━━━━━━━━━━━━━━━━━━━━━ 229.9/229.9 kB 20.4 MB/s eta 0:00:00', '#8 8.572 Collecting certifi', '#8 8.579   Downloading certifi-2025.7.14-py3-none-any.whl (162 kB)', '#8 8.588      ━━━━━━━━━━━━━━━━━━━━━━━━━━━━━━━━━━━━━━ 162.7/162.7 kB 19.4 MB/s eta 0:00:00', '#8 8.608 Collecting idna', '#8 8.614   Downloading idna-3.10-py3-none-any.whl (70 kB)', '#8 8.622      ━━━━━━━━━━━━━━━━━━━━━━━━━━━━━━━━━━━━━━━━ 70.4/70.4 kB 10.8 MB/s eta 0:00:00', '#8 8.652 Collecting httpcore==1.*', '#8 8.664   Downloading httpcore-1.0.9-py3-none-any.whl (78 kB)', '#8 8.668      ━━━━━━━━━━━━━━━━━━━━━━━━━━━━━━━━━━━━━━━━ 78.8/78.8 kB 29.9 MB/s eta 0:00:00', '#8 8.696 Collecting anyio', '#8 8.704   Downloading anyio-4.9.0-py3-none-any.whl (100 kB)', '#8 8.712      ━━━━━━━━━━━━━━━━━━━━━━━━━━━━━━━━━━━━━━ 100.9/100.9 kB 19.9 MB/s eta 0:00:00', '#8 8.736 Collecting h11>=0.16', '#8 8.743   Downloading h11-0.16.0-py3-none-any.whl (37 kB)', '#8 8.880 Collecting MarkupSafe>=2.0', '#8 8.893   Downloading MarkupSafe-3.0.2-cp310-cp310-manylinux_2_17_aarch64.manylinux2014_aarch64.whl (21 kB)', '#8 8.915 Collecting six<2,>=1.15', '#8 8.929   Downloading six-1.17.0-py2.py3-none-any.whl (11 kB)', '#8 8.957 Collecting beautifulsoup4<5,>=4.9', '#8 8.967   Downloading beautifulsoup4-4.13.4-py3-none-any.whl (187 kB)', '#8 8.980      ━━━━━━━━━━━━━━━━━━━━━━━━━━━━━━━━━━━━━━ 187.3/187.3 kB 15.5 MB/s eta 0:00:00', '#8 9.014 Collecting python-multipart>=0.0.9', '#8 9.020   Downloading python_multipart-0.0.20-py3-none-any.whl (24 kB)', '#8 9.065 Collecting pydantic-settings>=2.5.2', '#8 9.074   Downloading pydantic_settings-2.10.1-py3-none-any.whl (45 kB)', '#8 9.081      ━━━━━━━━━━━━━━━━━━━━━━━━━━━━━━━━━━━━━━━━ 45.2/45.2 kB 7.3 MB/s eta 0:00:00', '#8 9.113 Collecting jsonschema>=4.20.0', '#8 9.121   Downloading jsonschema-4.25.0-py3-none-any.whl (89 kB)', '#8 9.130      ━━━━━━━━━━━━━━━━━━━━━━━━━━━━━━━━━━━━━━━━ 89.2/89.2 kB 11.7 MB/s eta 0:00:00', '#8 9.150 Collecting httpx-sse>=0.4', '#8 9.159   Downloading httpx_sse-0.4.1-py3-none-any.whl (8.1 kB)', '#8 9.195 Collecting sse-starlette>=1.6.1', '#8 9.205   Downloading sse_starlette-2.4.1-py3-none-any.whl (10 kB)', '#8 9.278 Collecting importlib-metadata<8.8.0,>=6.0', '#8 9.284   Downloading importlib_metadata-8.7.0-py3-none-any.whl (27 kB)', '#8 9.326 Collecting opentelemetry-instrumentation==0.56b0', '#8 9.334   Downloading opentelemetry_instrumentation-0.56b0-py3-none-any.whl (31 kB)', '#8 9.509 Collecting wrapt<2.0.0,>=1.0.0', '#8 9.519   Downloading wrapt-1.17.2-cp310-cp310-manylinux_2_17_aarch64.manylinux2014_aarch64.whl (83 kB)', '#8 9.526      ━━━━━━━━━━━━━━━━━━━━━━━━━━━━━━━━━━━━━━━━ 83.3/83.3 kB 13.5 MB/s eta 0:00:00', '#8 9.560 Collecting packaging>=18.0', '#8 9.570   Downloading packaging-25.0-py3-none-any.whl (66 kB)', '#8 9.577      ━━━━━━━━━━━━━━━━━━━━━━━━━━━━━━━━━━━━━━━━ 66.5/66.5 kB 10.4 MB/s eta 0:00:00', '#8 9.601 Collecting opentelemetry-semantic-conventions==0.56b0', '#8 9.610   Downloading opentelemetry_semantic_conventions-0.56b0-py3-none-any.whl (201 kB)', '#8 9.652      ━━━━━━━━━━━━━━━━━━━━━━━━━━━━━━━━━━━━━━━ 201.6/201.6 kB 4.8 MB/s eta 0:00:00', '#8 9.688 Collecting wcwidth', '#8 9.696   Downloading wcwidth-0.2.13-py2.py3-none-any.whl (34 kB)', '#8 10.75 Collecting pydantic-core==2.33.2', '#8 10.76   Downloading pydantic_core-2.33.2-cp310-cp310-manylinux_2_17_aarch64.manylinux2014_aarch64.whl (1.9 MB)', '#8 10.95      ━━━━━━━━━━━━━━━━━━━━━━━━━━━━━━━━━━━━━━━━ 1.9/1.9 MB 10.0 MB/s eta 0:00:00', '#8 10.97 Collecting annotated-types>=0.6.0', '#8 10.98   Downloading annotated_types-0.7.0-py3-none-any.whl (13 kB)', '#8 11.00 Collecting typing-inspection>=0.4.0', '#8 11.01   Downloading typing_inspection-0.4.1-py3-none-any.whl (14 kB)', '#8 11.26 Collecting lxml', '#8 11.27   Downloading lxml-6.0.0-cp310-cp310-manylinux_2_27_aarch64.manylinux_2_28_aarch64.whl (5.1 MB)', '#8 11.59      ━━━━━━━━━━━━━━━━━━━━━━━━━━━━━━━━━━━━━━━━ 5.1/5.1 MB 16.2 MB/s eta 0:00:00', '#8 12.04 Collecting regex', '#8 12.05   Downloading regex-2024.11.6-cp310-cp310-manylinux_2_17_aarch64.manylinux2014_aarch64.whl (782 kB)', '#8 12.11      ━━━━━━━━━━━━━━━━━━━━━━━━━━━━━━━━━━━━━━ 782.5/782.5 kB 14.5 MB/s eta 0:00:00', '#8 12.14 Collecting html5lib', '#8 12.15   Downloading html5lib-1.1-py2.py3-none-any.whl (112 kB)', '#8 12.16      ━━━━━━━━━━━━━━━━━━━━━━━━━━━━━━━━━━━━━━ 112.2/112.2 kB 11.8 MB/s eta 0:00:00', '#8 12.27 Collecting charset_normalizer<4,>=2', '#8 12.28   Downloading charset_normalizer-3.4.2-cp310-cp310-manylinux_2_17_aarch64.manylinux2014_aarch64.whl (144 kB)', '#8 12.29      ━━━━━━━━━━━━━━━━━━━━━━━━━━━━━━━━━━━━━━ 144.6/144.6 kB 16.2 MB/s eta 0:00:00', '#8 12.32 Collecting markdown-it-py>=2.2.0', '#8 12.33   Downloading markdown_it_py-3.0.0-py3-none-any.whl (87 kB)', '#8 12.34      ━━━━━━━━━━━━━━━━━━━━━━━━━━━━━━━━━━━━━━━━ 87.5/87.5 kB 12.4 MB/s eta 0:00:00', '#8 12.37 Collecting pygments<3.0.0,>=2.13.0', '#8 12.38   Downloading pygments-2.19.2-py3-none-any.whl (1.2 MB)', '#8 12.51      ━━━━━━━━━━━━━━━━━━━━━━━━━━━━━━━━━━━━━━━━ 1.2/1.2 MB 9.1 MB/s eta 0:00:00', '#8 12.64 Collecting slack_sdk<4,>=3.35.0', '#8 12.65   Downloading slack_sdk-3.36.0-py2.py3-none-any.whl (293 kB)', '#8 12.68      ━━━━━━━━━━━━━━━━━━━━━━━━━━━━━━━━━━━━━━ 293.9/293.9 kB 13.2 MB/s eta 0:00:00', '#8 12.71 Collecting mpmath<1.4,>=1.1.0', '#8 12.72   Downloading mpmath-1.3.0-py3-none-any.whl (536 kB)', '#8 12.77      ━━━━━━━━━━━━━━━━━━━━━━━━━━━━━━━━━━━━━━ 536.2/536.2 kB 13.0 MB/s eta 0:00:00', '#8 12.82 Collecting click>=8.0.0', '#8 12.82   Downloading click-8.2.1-py3-none-any.whl (102 kB)', '#8 12.84      ━━━━━━━━━━━━━━━━━━━━━━━━━━━━━━━━━━━━━━━ 102.2/102.2 kB 7.4 MB/s eta 0:00:00', '#8 12.86 Collecting shellingham>=1.3.0', '#8 12.87   Downloading shellingham-1.5.4-py2.py3-none-any.whl (9.8 kB)', '#8 12.94 Collecting sniffio>=1.1', '#8 12.95   Downloading sniffio-1.3.1-py3-none-any.whl (10 kB)', '#8 12.97 Collecting exceptiongroup>=1.0.2', '#8 12.97   Downloading exceptiongroup-1.3.0-py3-none-any.whl (16 kB)', '#8 13.00 Collecting soupsieve>1.2', '#8 13.01   Downloading soupsieve-2.7-py3-none-any.whl (36 kB)', '#8 13.08 Collecting zipp>=3.20', '#8 13.09   Downloading zipp-3.23.0-py3-none-any.whl (10 kB)', '#8 13.12 Collecting jsonschema-specifications>=2023.03.6', '#8 13.13   Downloading jsonschema_specifications-2025.4.1-py3-none-any.whl (18 kB)', '#8 13.16 Collecting referencing>=0.28.4', '#8 13.17   Downloading referencing-0.36.2-py3-none-any.whl (26 kB)', '#8 13.54 Collecting rpds-py>=0.7.1', '#8 13.55   Downloading rpds_py-0.26.0-cp310-cp310-manylinux_2_17_aarch64.manylinux2014_aarch64.whl (381 kB)', '#8 13.60      ━━━━━━━━━━━━━━━━━━━━━━━━━━━━━━━━━━━━━━━ 381.5/381.5 kB 7.5 MB/s eta 0:00:00', '#8 13.63 Collecting attrs>=22.2.0', '#8 13.64   Downloading attrs-25.3.0-py3-none-any.whl (63 kB)', '#8 13.65      ━━━━━━━━━━━━━━━━━━━━━━━━━━━━━━━━━━━━━━━━ 63.8/63.8 kB 7.0 MB/s eta 0:00:00', '#8 13.67 Collecting mdurl~=0.1', '#8 13.68   Downloading mdurl-0.1.2-py3-none-any.whl (10.0 kB)', '#8 13.74 Collecting python-dotenv>=0.21.0', '#8 13.74   Downloading python_dotenv-1.1.1-py3-none-any.whl (20 kB)', '#8 13.82 Collecting webencodings', '#8 13.83   Downloading webencodings-0.5.1-py2.py3-none-any.whl (11 kB)', '#8 14.21 Installing collected packages: webencodings, wcwidth, mpmath, zipp, wrapt, watchdog, uv, urllib3, typing-extensions, toml, tenacity, sympy, soupsieve, sniffio, slack_sdk, six, shellingham, rpds-py, regex, pyyaml, python-multipart, python-dotenv, pyjwt, pygments, prompt-toolkit, pillow, packaging, mdurl, MarkupSafe, lxml, jmespath, idna, httpx-sse, h11, docstring-parser, dill, click, charset_normalizer, certifi, attrs, annotated-types, uvicorn, typing-inspection, slack-bolt, requests, referencing, python-dateutil, pydantic-core, markdown-it-py, jinja2, importlib-metadata, httpcore, html5lib, exceptiongroup, beautifulsoup4, rich, readabilipy, pydantic, opentelemetry-api, markdownify, jsonschema-specifications, botocore, aws-requests-auth, anyio, typer, starlette, sse-starlette, s3transfer, pydantic-settings, opentelemetry-semantic-conventions, jsonschema, httpx, opentelemetry-sdk, opentelemetry-instrumentation, mcp, boto3, opentelemetry-instrumentation-threading, bedrock-agentcore, strands-agents, bedrock-agentcore-starter-toolkit, strands-agents-tools', '#8 21.10 Successfully installed MarkupSafe-3.0.2 annotated-types-0.7.0 anyio-4.9.0 attrs-25.3.0 aws-requests-auth-0.4.3 beautifulsoup4-4.13.4 bedrock-agentcore-0.1.0 bedrock-agentcore-starter-toolkit-0.1.0 boto3-1.39.9 botocore-1.39.9 certifi-2025.7.14 charset_normalizer-3.4.2 click-8.2.1 dill-0.4.0 docstring-parser-0.16 exceptiongroup-1.3.0 h11-0.16.0 html5lib-1.1 httpcore-1.0.9 httpx-0.28.1 httpx-sse-0.4.1 idna-3.10 importlib-metadata-8.7.0 jinja2-3.1.6 jmespath-1.0.1 jsonschema-4.25.0 jsonschema-specifications-2025.4.1 lxml-6.0.0 markdown-it-py-3.0.0 markdownify-1.1.0 mcp-1.12.0 mdurl-0.1.2 mpmath-1.3.0 opentelemetry-api-1.35.0 opentelemetry-instrumentation-0.56b0 opentelemetry-instrumentation-threading-0.56b0 opentelemetry-sdk-1.35.0 opentelemetry-semantic-conventions-0.56b0 packaging-25.0 pillow-11.3.0 prompt-toolkit-3.0.51 pydantic-2.11.7 pydantic-core-2.33.2 pydantic-settings-2.10.1 pygments-2.19.2 pyjwt-2.10.1 python-dateutil-2.9.0.post0 python-dotenv-1.1.1 python-multipart-0.0.20 pyyaml-6.0.2 readabilipy-0.3.0 referencing-0.36.2 regex-2024.11.6 requests-2.32.4 rich-14.0.0 rpds-py-0.26.0 s3transfer-0.13.1 shellingham-1.5.4 six-1.17.0 slack-bolt-1.23.0 slack_sdk-3.36.0 sniffio-1.3.1 soupsieve-2.7 sse-starlette-2.4.1 starlette-0.47.1 strands-agents-1.0.1 strands-agents-tools-0.2.1 sympy-1.14.0 tenacity-9.1.2 toml-0.10.2 typer-0.16.0 typing-extensions-4.14.1 typing-inspection-0.4.1 urllib3-2.5.0 uv-0.8.0 uvicorn-0.35.0 watchdog-6.0.0 wcwidth-0.2.13 webencodings-0.5.1 wrapt-1.17.2 zipp-3.23.0', \"#8 21.10 WARNING: Running pip as the 'root' user can result in broken permissions and conflicting behaviour with the system package manager. It is recommended to use a virtual environment instead: https://pip.pypa.io/warnings/venv\", '#8 21.20', '#8 21.20 [notice] A new release of pip is available: 23.0.1 -> 25.1.1', '#8 21.20 [notice] To update, run: pip install --upgrade pip', '#8 DONE 21.9s', '#9 [5/6] RUN python -m pip install aws_opentelemetry_distro_genai_beta>=0.1.2', \"#9 12.99 ERROR: pip's dependency resolver does not currently take into account all the packages that are installed. This behaviour is the source of the following dependency conflicts.\", '#9 12.99 opentelemetry-instrumentation-threading 0.56b0 requires opentelemetry-instrumentation==0.56b0, but you have opentelemetry-instrumentation 0.54b1 which is incompatible.', \"#9 12.99 WARNING: Running pip as the 'root' user can result in broken permissions and conflicting behaviour with the system package manager. It is recommended to use a virtual environment instead: https://pip.pypa.io/warnings/venv\", '#9 13.10', '#9 13.10 [notice] A new release of pip is available: 23.0.1 -> 25.1.1', '#9 13.10 [notice] To update, run: pip install --upgrade pip', '#9 DONE 13.4s', '#10 [6/6] RUN useradd -m -u 1000 bedrock_agentcore', '#10 DONE 0.2s', '#11 exporting to image', '#11 exporting layers', '#11 exporting layers 0.8s done', '#11 writing image sha256:4e69ff387b383dd7d8d50a6195e3390678081cf6c9fc33ec80e31eb8e7da8118', '#11 writing image sha256:4e69ff387b383dd7d8d50a6195e3390678081cf6c9fc33ec80e31eb8e7da8118 done', '#11 naming to docker.io/library/bedrock_agentcore-strands_claude2:latest done', '#11 DONE 0.9s', 'View build details: docker-desktop://dashboard/build/default/default/kms4c6yfz5w9tuve1u1mihbex'])"
      ]
     },
     "execution_count": 18,
     "metadata": {},
     "output_type": "execute_result"
    }
   ],
   "source": [
    "launch_result"
   ]
  },
  {
   "cell_type": "code",
   "execution_count": 19,
   "id": "76a6cf1416830a54",
   "metadata": {},
   "outputs": [],
   "source": [
    "agentcore_control_client = boto3.client(\n",
    "    'bedrock-agentcore-control',\n",
    "    region_name=region\n",
    ")\n",
    "ecr_client = boto3.client(\n",
    "    'ecr',\n",
    "    region_name=region\n",
    "    \n",
    ")\n",
    "\n",
    "iam_client = boto3.client('iam')\n",
    "\n",
    "runtime_delete_response = agentcore_control_client.delete_agent_runtime(\n",
    "    agentRuntimeId=launch_result.agent_id,\n",
    "    \n",
    ")\n",
    "\n",
    "response = ecr_client.delete_repository(\n",
    "    repositoryName=launch_result.ecr_uri.split('/')[1],\n",
    "    force=True\n",
    ")\n",
    "\n",
    "policies = iam_client.list_role_policies(\n",
    "    RoleName=agentcore_iam_role['Role']['RoleName'],\n",
    "    MaxItems=100\n",
    ")\n",
    "\n",
    "for policy_name in policies['PolicyNames']:\n",
    "    iam_client.delete_role_policy(\n",
    "        RoleName=agentcore_iam_role['Role']['RoleName'],\n",
    "        PolicyName=policy_name\n",
    "    )\n",
    "iam_response = iam_client.delete_role(\n",
    "    RoleName=agentcore_iam_role['Role']['RoleName']\n",
    ")"
   ]
  },
  {
   "cell_type": "markdown",
   "id": "b118ad38-feeb-4d1d-9d57-e5c845becc56",
   "metadata": {},
   "source": [
    "# Congratulations!"
   ]
  }
 ],
 "metadata": {
  "kernelspec": {
   "display_name": "Python 3 (ipykernel)",
   "language": "python",
   "name": "python3"
  },
  "language_info": {
   "codemirror_mode": {
    "name": "ipython",
    "version": 3
   },
   "file_extension": ".py",
   "mimetype": "text/x-python",
   "name": "python",
   "nbconvert_exporter": "python",
   "pygments_lexer": "ipython3",
   "version": "3.10.16"
  }
 },
 "nbformat": 4,
 "nbformat_minor": 5
}
