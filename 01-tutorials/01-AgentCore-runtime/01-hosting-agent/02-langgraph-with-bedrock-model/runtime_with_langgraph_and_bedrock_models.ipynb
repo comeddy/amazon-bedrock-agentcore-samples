{
 "cells": [
  {
   "cell_type": "markdown",
   "id": "5c0122e65c053f38",
   "metadata": {},
   "source": [
    "# Hosting LangGraph agent with Amazon Bedrock models in Amazon Bedrock AgentCore Runtime\n",
    "\n",
    "## Overview\n",
    "\n",
    "In this tutorial we will learn how to host your existing agent, using Amazon Bedrock AgentCore Runtime. \n",
    "\n",
    "We will focus on a LangGraph with Amazon Bedrock model example. For Strands Agents with Amazon Bedrock model check [here](../01-strands-with-bedrock-model)\n",
    "and for a Strands Agents with an OpenAI model check [here](../03-strands-with-openai-model).\n",
    "\n",
    "### Tutorial Details\n",
    "\n",
    "| Information         | Details                                                                      |\n",
    "|:--------------------|:-----------------------------------------------------------------------------|\n",
    "| Tutorial type       | Conversational                                                               |\n",
    "| Agent type          | Single                                                                       |\n",
    "| Agentic Framework   | LangGraph                                                                    |\n",
    "| LLM model           | Anthropic Claude Sonnet 3                                                    |\n",
    "| Tutorial components | Hosting agent on AgentCore Runtime. Using LangGraph and Amazon Bedrock Model |\n",
    "| Tutorial vertical   | Cross-vertical                                                               |\n",
    "| Example complexity  | Easy                                                                         |\n",
    "| SDK used            | Amazon BedrockAgentCore Python SDK and boto3                                 |\n",
    "\n",
    "### Tutorial Architecture\n",
    "\n",
    "In this tutorial we will describe how to deploy an existing agent to AgentCore runtime. \n",
    "\n",
    "For demonstration purposes, we will  use a LangGraph agent using Amazon Bedrock models\n",
    "\n",
    "In our example we will use a very simple agent with two tools: `get_weather` and `get_time`. \n",
    "\n",
    "<div style=\"text-align:left\">\n",
    "    <img src=\"images/architecture_runtime.png\" width=\"50%\"/>\n",
    "</div>\n",
    "\n",
    "### Tutorial Key Features\n",
    "\n",
    "* Hosting Agents on Amazon Bedrock AgentCore Runtime\n",
    "* Using Amazon Bedrock models\n",
    "* Using LangGraph\n"
   ]
  },
  {
   "cell_type": "markdown",
   "id": "3a676f58ecf52b42",
   "metadata": {},
   "source": [
    "## Prerequisites\n",
    "\n",
    "To execute this tutorial you will need:\n",
    "* Python 3.10+\n",
    "* AWS credentials\n",
    "* Amazon Bedrock AgentCore SDK\n",
    "* LangGraph\n",
    "* Docker running"
   ]
  },
  {
   "cell_type": "code",
   "execution_count": 1,
   "id": "initial_id",
   "metadata": {
    "jupyter": {
     "is_executing": true
    }
   },
   "outputs": [],
   "source": [
    "# !uv add -r requirements.txt --active"
   ]
  },
  {
   "cell_type": "markdown",
   "id": "ca924a7a2731e26f",
   "metadata": {},
   "source": [
    "## Creating your agents and experimenting locally\n",
    "\n",
    "Before we deploy our agents to AgentCore Runtime, let's develop and run them locally for experimentation purposes.\n",
    "\n",
    "For production agentic applications we will need to decouple the agent creation process from the agent invocation one. With AgentCore Runtime, we will decorate the invocation part of our agent with the `@app.entrypoint` decorator and have it as the entry point for our runtime. Let's first look how each agent is developed during the experimentation phase.\n",
    "\n",
    "The architecture here will look as following:\n",
    "\n",
    "<div style=\"text-align:left\">\n",
    "    <img src=\"images/architecture_local.png\" width=\"50%\"/>\n",
    "</div>"
   ]
  },
  {
   "cell_type": "code",
   "execution_count": 2,
   "id": "b7d386ab54e85e63",
   "metadata": {},
   "outputs": [
    {
     "name": "stdout",
     "output_type": "stream",
     "text": [
      "Overwriting langgraph_bedrock.py\n"
     ]
    }
   ],
   "source": [
    "%%writefile langgraph_bedrock.py\n",
    "from langgraph.graph import StateGraph, MessagesState\n",
    "from langgraph.prebuilt import ToolNode, tools_condition\n",
    "from langchain_core.tools import tool\n",
    "from langchain_core.messages import HumanMessage, SystemMessage\n",
    "import argparse\n",
    "import json\n",
    "import operator\n",
    "import math\n",
    "\n",
    "# Create calculator tool\n",
    "@tool\n",
    "def calculator(expression: str) -> str:\n",
    "    \"\"\"\n",
    "    Calculate the result of a mathematical expression.\n",
    "    \n",
    "    Args:\n",
    "        expression: A mathematical expression as a string (e.g., \"2 + 3 * 4\", \"sqrt(16)\", \"sin(pi/2)\")\n",
    "    \n",
    "    Returns:\n",
    "        The result of the calculation as a string\n",
    "    \"\"\"\n",
    "    try:\n",
    "        # Define safe functions that can be used in expressions\n",
    "        safe_dict = {\n",
    "            \"__builtins__\": {},\n",
    "            \"abs\": abs, \"round\": round, \"min\": min, \"max\": max,\n",
    "            \"sum\": sum, \"pow\": pow,\n",
    "            # Math functions\n",
    "            \"sqrt\": math.sqrt, \"sin\": math.sin, \"cos\": math.cos, \"tan\": math.tan,\n",
    "            \"log\": math.log, \"log10\": math.log10, \"exp\": math.exp,\n",
    "            \"pi\": math.pi, \"e\": math.e,\n",
    "            \"ceil\": math.ceil, \"floor\": math.floor,\n",
    "            \"degrees\": math.degrees, \"radians\": math.radians,\n",
    "            # Basic operators (for explicit use)\n",
    "            \"add\": operator.add, \"sub\": operator.sub,\n",
    "            \"mul\": operator.mul, \"truediv\": operator.truediv,\n",
    "        }\n",
    "        \n",
    "        # Evaluate the expression safely\n",
    "        result = eval(expression, safe_dict)\n",
    "        return str(result)\n",
    "        \n",
    "    except ZeroDivisionError:\n",
    "        return \"Error: Division by zero\"\n",
    "    except ValueError as e:\n",
    "        return f\"Error: Invalid value - {str(e)}\"\n",
    "    except SyntaxError:\n",
    "        return \"Error: Invalid mathematical expression\"\n",
    "    except Exception as e:\n",
    "        return f\"Error: {str(e)}\"\n",
    "\n",
    "# Create a custom weather tool\n",
    "@tool\n",
    "def weather():\n",
    "    \"\"\"Get weather\"\"\"  # Dummy implementation\n",
    "    return \"sunny\"\n",
    "\n",
    "# Define the agent using manual LangGraph construction\n",
    "def create_agent():\n",
    "    \"\"\"Create and configure the LangGraph agent\"\"\"\n",
    "    from langchain_aws import ChatBedrock\n",
    "    \n",
    "    # Initialize your LLM (adjust model and parameters as needed)\n",
    "    llm = ChatBedrock(\n",
    "        model_id=\"anthropic.claude-3-sonnet-20240229-v1:0\",  # or your preferred model\n",
    "        model_kwargs={\"temperature\": 0.1}\n",
    "    )\n",
    "    \n",
    "    # Bind tools to the LLM\n",
    "    tools = [calculator, weather]\n",
    "    llm_with_tools = llm.bind_tools(tools)\n",
    "    \n",
    "    # System message\n",
    "    system_message = \"You're a helpful assistant. You can do simple math calculation, and tell the weather.\"\n",
    "    \n",
    "    # Define the chatbot node\n",
    "    def chatbot(state: MessagesState):\n",
    "        # Add system message if not already present\n",
    "        messages = state[\"messages\"]\n",
    "        if not messages or not isinstance(messages[0], SystemMessage):\n",
    "            messages = [SystemMessage(content=system_message)] + messages\n",
    "        \n",
    "        response = llm_with_tools.invoke(messages)\n",
    "        return {\"messages\": [response]}\n",
    "    \n",
    "    # Create the graph\n",
    "    graph_builder = StateGraph(MessagesState)\n",
    "    \n",
    "    # Add nodes\n",
    "    graph_builder.add_node(\"chatbot\", chatbot)\n",
    "    graph_builder.add_node(\"tools\", ToolNode(tools))\n",
    "    \n",
    "    # Add edges\n",
    "    graph_builder.add_conditional_edges(\n",
    "        \"chatbot\",\n",
    "        tools_condition,\n",
    "    )\n",
    "    graph_builder.add_edge(\"tools\", \"chatbot\")\n",
    "    \n",
    "    # Set entry point\n",
    "    graph_builder.set_entry_point(\"chatbot\")\n",
    "    \n",
    "    # Compile the graph\n",
    "    return graph_builder.compile()\n",
    "\n",
    "# Initialize the agent\n",
    "agent = create_agent()\n",
    "\n",
    "def langgraph_bedrock(payload):\n",
    "    \"\"\"\n",
    "    Invoke the agent with a payload\n",
    "    \"\"\"\n",
    "    user_input = payload.get(\"prompt\")\n",
    "    \n",
    "    # Create the input in the format expected by LangGraph\n",
    "    response = agent.invoke({\"messages\": [HumanMessage(content=user_input)]})\n",
    "    \n",
    "    # Extract the final message content\n",
    "    return response[\"messages\"][-1].content\n",
    "\n",
    "if __name__ == \"__main__\":\n",
    "    parser = argparse.ArgumentParser()\n",
    "    parser.add_argument(\"payload\", type=str)\n",
    "    args = parser.parse_args()\n",
    "    response = langgraph_bedrock(json.loads(args.payload))\n",
    "    print(response)"
   ]
  },
  {
   "cell_type": "markdown",
   "id": "68499675-db8d-47c6-8c0c-5d66dcb06229",
   "metadata": {},
   "source": [
    "#### Invoking local agent"
   ]
  },
  {
   "cell_type": "code",
   "execution_count": 3,
   "id": "1226d59e6b56c96",
   "metadata": {
    "ExecuteTime": {
     "end_time": "2025-06-29T21:52:06.461281Z",
     "start_time": "2025-06-29T21:52:06.456854Z"
    }
   },
   "outputs": [
    {
     "name": "stdout",
     "output_type": "stream",
     "text": [
      "The weather is currently sunny.\n"
     ]
    }
   ],
   "source": [
    "!python langgraph_bedrock.py '{\"prompt\": \"What is the weather now?\"}'"
   ]
  },
  {
   "cell_type": "markdown",
   "id": "932110e6-fca6-47b6-b7c5-c4714a866a80",
   "metadata": {},
   "source": [
    "## Preparing your agent for deployment on AgentCore Runtime\n",
    "\n",
    "Let's now deploy our agents to AgentCore Runtime. To do so we need to:\n",
    "* Import the Runtime App with `from bedrock_agentcore.runtime import BedrockAgentCoreApp`\n",
    "* Initialize the App in our code with `app = BedrockAgentCoreApp()`\n",
    "* Decorate the invocation function with the `@app.entrypoint` decorator\n",
    "* Let AgentCoreRuntime control the running of the agent with `app.run()`\n",
    "\n",
    "### LangGraph with Amazon Bedrock model\n",
    "Let's start with our LangGraph using Amazon Bedrock model. Other examples with different frameworks and models are available in the parent directories"
   ]
  },
  {
   "cell_type": "code",
   "execution_count": 4,
   "id": "3b845b32-a03e-45c2-a2f0-2afba8069f47",
   "metadata": {},
   "outputs": [
    {
     "name": "stdout",
     "output_type": "stream",
     "text": [
      "Overwriting langgraph_bedrock.py\n"
     ]
    }
   ],
   "source": [
    "%%writefile langgraph_bedrock.py\n",
    "from langgraph.graph import StateGraph, MessagesState\n",
    "from langgraph.prebuilt import ToolNode, tools_condition\n",
    "from langchain_core.tools import tool\n",
    "from langchain_core.messages import HumanMessage, SystemMessage\n",
    "from bedrock_agentcore.runtime import BedrockAgentCoreApp\n",
    "import argparse\n",
    "import json\n",
    "import operator\n",
    "import math\n",
    "\n",
    "app = BedrockAgentCoreApp()\n",
    "\n",
    "# Create calculator tool\n",
    "@tool\n",
    "def calculator(expression: str) -> str:\n",
    "    \"\"\"\n",
    "    Calculate the result of a mathematical expression.\n",
    "    \n",
    "    Args:\n",
    "        expression: A mathematical expression as a string (e.g., \"2 + 3 * 4\", \"sqrt(16)\", \"sin(pi/2)\")\n",
    "    \n",
    "    Returns:\n",
    "        The result of the calculation as a string\n",
    "    \"\"\"\n",
    "    try:\n",
    "        # Define safe functions that can be used in expressions\n",
    "        safe_dict = {\n",
    "            \"__builtins__\": {},\n",
    "            \"abs\": abs, \"round\": round, \"min\": min, \"max\": max,\n",
    "            \"sum\": sum, \"pow\": pow,\n",
    "            # Math functions\n",
    "            \"sqrt\": math.sqrt, \"sin\": math.sin, \"cos\": math.cos, \"tan\": math.tan,\n",
    "            \"log\": math.log, \"log10\": math.log10, \"exp\": math.exp,\n",
    "            \"pi\": math.pi, \"e\": math.e,\n",
    "            \"ceil\": math.ceil, \"floor\": math.floor,\n",
    "            \"degrees\": math.degrees, \"radians\": math.radians,\n",
    "            # Basic operators (for explicit use)\n",
    "            \"add\": operator.add, \"sub\": operator.sub,\n",
    "            \"mul\": operator.mul, \"truediv\": operator.truediv,\n",
    "        }\n",
    "        \n",
    "        # Evaluate the expression safely\n",
    "        result = eval(expression, safe_dict)\n",
    "        return str(result)\n",
    "        \n",
    "    except ZeroDivisionError:\n",
    "        return \"Error: Division by zero\"\n",
    "    except ValueError as e:\n",
    "        return f\"Error: Invalid value - {str(e)}\"\n",
    "    except SyntaxError:\n",
    "        return \"Error: Invalid mathematical expression\"\n",
    "    except Exception as e:\n",
    "        return f\"Error: {str(e)}\"\n",
    "\n",
    "# Create a custom weather tool\n",
    "@tool\n",
    "def weather():\n",
    "    \"\"\"Get weather\"\"\"  # Dummy implementation\n",
    "    return \"sunny\"\n",
    "\n",
    "# Define the agent using manual LangGraph construction\n",
    "def create_agent():\n",
    "    \"\"\"Create and configure the LangGraph agent\"\"\"\n",
    "    from langchain_aws import ChatBedrock\n",
    "    \n",
    "    # Initialize your LLM (adjust model and parameters as needed)\n",
    "    llm = ChatBedrock(\n",
    "        model_id=\"anthropic.claude-3-sonnet-20240229-v1:0\",  # or your preferred model\n",
    "        model_kwargs={\"temperature\": 0.1}\n",
    "    )\n",
    "    \n",
    "    # Bind tools to the LLM\n",
    "    tools = [calculator, weather]\n",
    "    llm_with_tools = llm.bind_tools(tools)\n",
    "    \n",
    "    # System message\n",
    "    system_message = \"You're a helpful assistant. You can do simple math calculation, and tell the weather.\"\n",
    "    \n",
    "    # Define the chatbot node\n",
    "    def chatbot(state: MessagesState):\n",
    "        # Add system message if not already present\n",
    "        messages = state[\"messages\"]\n",
    "        if not messages or not isinstance(messages[0], SystemMessage):\n",
    "            messages = [SystemMessage(content=system_message)] + messages\n",
    "        \n",
    "        response = llm_with_tools.invoke(messages)\n",
    "        return {\"messages\": [response]}\n",
    "    \n",
    "    # Create the graph\n",
    "    graph_builder = StateGraph(MessagesState)\n",
    "    \n",
    "    # Add nodes\n",
    "    graph_builder.add_node(\"chatbot\", chatbot)\n",
    "    graph_builder.add_node(\"tools\", ToolNode(tools))\n",
    "    \n",
    "    # Add edges\n",
    "    graph_builder.add_conditional_edges(\n",
    "        \"chatbot\",\n",
    "        tools_condition,\n",
    "    )\n",
    "    graph_builder.add_edge(\"tools\", \"chatbot\")\n",
    "    \n",
    "    # Set entry point\n",
    "    graph_builder.set_entry_point(\"chatbot\")\n",
    "    \n",
    "    # Compile the graph\n",
    "    return graph_builder.compile()\n",
    "\n",
    "# Initialize the agent\n",
    "agent = create_agent()\n",
    "\n",
    "@app.entrypoint\n",
    "def langgraph_bedrock(payload):\n",
    "    \"\"\"\n",
    "    Invoke the agent with a payload\n",
    "    \"\"\"\n",
    "    user_input = payload.get(\"prompt\")\n",
    "    \n",
    "    # Create the input in the format expected by LangGraph\n",
    "    response = agent.invoke({\"messages\": [HumanMessage(content=user_input)]})\n",
    "    \n",
    "    # Extract the final message content\n",
    "    return response[\"messages\"][-1].content\n",
    "\n",
    "if __name__ == \"__main__\":\n",
    "    app.run()"
   ]
  },
  {
   "cell_type": "markdown",
   "id": "c64db7b5-0f1b-475f-9bf2-467b4449d46a",
   "metadata": {},
   "source": [
    "## What happens behind the scenes?\n",
    "\n",
    "When you use `BedrockAgentCoreApp`, it automatically:\n",
    "\n",
    "* Creates an HTTP server that listens on the port 8080\n",
    "* Implements the required `/invocations` endpoint for processing the agent's requirements\n",
    "* Implements the `/ping` endpoint for health checks (very important for asynchronous agents)\n",
    "* Handles proper content types and response formats\n",
    "* Manages error handling according to the AWS standards"
   ]
  },
  {
   "cell_type": "markdown",
   "id": "6820ca8f-a8a8-4f34-b4ef-b6dad3776261",
   "metadata": {},
   "source": [
    "## Deploying the agent to AgentCore Runtime\n",
    "\n",
    "The `CreateAgentRuntime` operation supports comprehensive configuration options, letting you specify container images, environment variables and encryption settings. You can also configure protocol settings (HTTP, MCP) and authorization mechanisms to control how your clients communicate with the agent. \n",
    "\n",
    "**Note:** Operations best practice is to package code as container and push to ECR using CI/CD pipelines and IaC\n",
    "\n",
    "In this tutorial can will the Amazon Bedrock AgentCode Python SDK to easily package your artifacts and deploy them to AgentCore runtime."
   ]
  },
  {
   "cell_type": "markdown",
   "id": "d0861401-a111-4ade-9e02-50f52fdfa9b1",
   "metadata": {},
   "source": [
    "### Creating runtime role\n",
    "\n",
    "Before starting, let's create an IAM role for our AgentCore Runtime. We will do so using the utils function pre-developed for you."
   ]
  },
  {
   "cell_type": "code",
   "execution_count": 5,
   "id": "54dd2fdf-985c-4a70-8b87-071783a209de",
   "metadata": {},
   "outputs": [
    {
     "name": "stdout",
     "output_type": "stream",
     "text": [
      "Role already exists -- deleting and creating it again\n",
      "policies: {'PolicyNames': ['AgentCorePolicy'], 'IsTruncated': False, 'ResponseMetadata': {'RequestId': '5f58cfdc-a700-4f2a-8ad4-57115a71ae6c', 'HTTPStatusCode': 200, 'HTTPHeaders': {'date': 'Sat, 19 Jul 2025 10:07:56 GMT', 'x-amzn-requestid': '5f58cfdc-a700-4f2a-8ad4-57115a71ae6c', 'content-type': 'text/xml', 'content-length': '380'}, 'RetryAttempts': 0}}\n",
      "deleting agentcore-langgraph_bedrock-role\n",
      "recreating agentcore-langgraph_bedrock-role\n",
      "attaching role policy agentcore-langgraph_bedrock-role\n"
     ]
    }
   ],
   "source": [
    "import sys\n",
    "import os\n",
    "import json\n",
    "import boto3\n",
    "\n",
    "# Get the current notebook's directory\n",
    "current_dir = os.path.dirname(os.path.abspath('__file__' if '__file__' in globals() else '.'))\n",
    "\n",
    "# Navigate up to the utils.py location\n",
    "utils_dir = os.path.join(current_dir, '..')\n",
    "utils_dir = os.path.abspath(utils_dir)\n",
    "\n",
    "# Add to sys.path\n",
    "sys.path.insert(0, utils_dir)\n",
    "\n",
    "from utils import create_agentcore_role\n",
    "\n",
    "agent_name=\"langgraph_bedrock\"\n",
    "agentcore_iam_role = create_agentcore_role(agent_name=agent_name)"
   ]
  },
  {
   "cell_type": "markdown",
   "id": "8855aceb-b79f-4aaa-b16f-8577c059816a",
   "metadata": {},
   "source": [
    "### Configure AgentCore Runtime deployment\n",
    "\n",
    "Next we will use our starter toolkit to configure the AgentCore Runtime deployment with an entrypoint, the execution role we just created and a requirements file. We will also configure the starter kit to auto create the Amazon ECR repository on launch.\n",
    "\n",
    "During the configure step, your docker file will be generated based on your application code\n",
    "\n",
    "<div style=\"text-align:left\">\n",
    "    <img src=\"images/configure.png\" width=\"40%\"/>\n",
    "</div>"
   ]
  },
  {
   "cell_type": "code",
   "execution_count": 6,
   "id": "2e79eba2-ca59-463f-9ebf-56e362d7ae66",
   "metadata": {},
   "outputs": [
    {
     "name": "stderr",
     "output_type": "stream",
     "text": [
      "Bedrock AgentCore configured: /Users/youngjik/Documents/GitHub/amazon-bedrock-agentcore-samples/01-tutorials/01-AgentCore-runtime/01-hosting-agent/02-langgraph-with-bedrock-model/.bedrock_agentcore.yaml\n"
     ]
    },
    {
     "data": {
      "text/plain": [
       "ConfigureResult(config_path=PosixPath('/Users/youngjik/Documents/GitHub/amazon-bedrock-agentcore-samples/01-tutorials/01-AgentCore-runtime/01-hosting-agent/02-langgraph-with-bedrock-model/.bedrock_agentcore.yaml'), dockerfile_path=PosixPath('/Users/youngjik/Documents/GitHub/amazon-bedrock-agentcore-samples/01-tutorials/01-AgentCore-runtime/01-hosting-agent/02-langgraph-with-bedrock-model/Dockerfile'), dockerignore_path=PosixPath('/Users/youngjik/Documents/GitHub/amazon-bedrock-agentcore-samples/01-tutorials/01-AgentCore-runtime/01-hosting-agent/02-langgraph-with-bedrock-model/.dockerignore'), runtime='Docker', region='us-west-2', account_id='720025708473', execution_role='arn:aws:iam::720025708473:role/agentcore-langgraph_bedrock-role', ecr_repository=None, auto_create_ecr=True)"
      ]
     },
     "execution_count": 6,
     "metadata": {},
     "output_type": "execute_result"
    }
   ],
   "source": [
    "from bedrock_agentcore_starter_toolkit import Runtime\n",
    "from boto3.session import Session\n",
    "boto_session = Session()\n",
    "region = boto_session.region_name\n",
    "region\n",
    "\n",
    "agentcore_runtime = Runtime()\n",
    "\n",
    "response = agentcore_runtime.configure(\n",
    "    entrypoint=\"langgraph_bedrock.py\",\n",
    "    execution_role=agentcore_iam_role['Role']['Arn'],\n",
    "    auto_create_ecr=True,\n",
    "    requirements_file=\"requirements.txt\",\n",
    "    region=region\n",
    ")\n",
    "response"
   ]
  },
  {
   "cell_type": "markdown",
   "id": "9e1b84cc-798e-472c-ac0b-2c315f4b704d",
   "metadata": {},
   "source": [
    "### Launching agent to AgentCore Runtime\n",
    "\n",
    "Now that we've got a docker file, let's launch the agent to the AgentCore Runtime. This will create the Amazon ECR repository and the AgentCore Runtime\n",
    "\n",
    "<div style=\"text-align:left\">\n",
    "    <img src=\"images/launch.png\" width=\"75%\"/>\n",
    "</div>"
   ]
  },
  {
   "cell_type": "code",
   "execution_count": 7,
   "id": "17a32ab8-7701-4900-8055-e24364bdf35c",
   "metadata": {},
   "outputs": [
    {
     "name": "stdout",
     "output_type": "stream",
     "text": [
      "The push refers to repository [720025708473.dkr.ecr.us-west-2.amazonaws.com/bedrock_agentcore-langgraph_bedrock]\n"
     ]
    },
    {
     "name": "stderr",
     "output_type": "stream",
     "text": [
      "Deployed to cloud: arn:aws:bedrock-agentcore:us-west-2:720025708473:runtime/langgraph_bedrock-p1Ombu8VZz\n",
      "🔍 Agent logs available at:\n",
      "   /aws/bedrock-agentcore/runtimes/langgraph_bedrock-p1Ombu8VZz-DEFAULT\n",
      "   /aws/bedrock-agentcore/runtimes/langgraph_bedrock-p1Ombu8VZz-DEFAULT/runtime-logs\n",
      "💡 Tail logs with: aws logs tail /aws/bedrock-agentcore/runtimes/langgraph_bedrock-p1Ombu8VZz-DEFAULT --follow\n",
      "💡 Or view recent logs: aws logs tail /aws/bedrock-agentcore/runtimes/langgraph_bedrock-p1Ombu8VZz-DEFAULT --since 1h\n"
     ]
    },
    {
     "data": {
      "text/plain": [
       "LaunchResult(mode='cloud', tag='bedrock_agentcore-langgraph_bedrock:latest', env_vars=None, port=None, runtime=None, ecr_uri='720025708473.dkr.ecr.us-west-2.amazonaws.com/bedrock_agentcore-langgraph_bedrock', agent_id='langgraph_bedrock-p1Ombu8VZz', agent_arn='arn:aws:bedrock-agentcore:us-west-2:720025708473:runtime/langgraph_bedrock-p1Ombu8VZz', build_output=['#0 building with \"default\" instance using docker driver', '#1 [internal] load build definition from Dockerfile', '#1 transferring dockerfile: 789B done', '#1 DONE 0.0s', '#2 [internal] load metadata for public.ecr.aws/docker/library/python:3.10-slim', '#2 DONE 1.3s', '#3 [internal] load .dockerignore', '#3 transferring context: 744B done', '#3 DONE 0.0s', '#4 [1/6] FROM public.ecr.aws/docker/library/python:3.10-slim@sha256:9dd6774a1276178f94b0cc1fb1f0edd980825d0ea7634847af9940b1b6273c13', '#4 DONE 0.0s', '#5 [internal] load build context', '#5 transferring context: 46.99kB 0.0s done', '#5 DONE 0.0s', '#6 [2/6] WORKDIR /app', '#6 CACHED', '#7 [3/6] COPY . .', '#7 DONE 0.0s', '#8 [4/6] RUN python -m pip install --no-cache-dir -r requirements.txt', '#8 1.728 Collecting uv', '#8 1.795   Downloading uv-0.8.0-py3-none-manylinux_2_28_aarch64.whl (17.5 MB)', '#8 3.519      ━━━━━━━━━━━━━━━━━━━━━━━━━━━━━━━━━━━━━━━━ 17.5/17.5 MB 11.9 MB/s eta 0:00:00', '#8 3.660 Collecting langchain[aws]', '#8 3.696   Downloading langchain-0.3.26-py3-none-any.whl (1.0 MB)', '#8 3.794      ━━━━━━━━━━━━━━━━━━━━━━━━━━━━━━━━━━━━━━━━ 1.0/1.0 MB 10.3 MB/s eta 0:00:00', '#8 3.862 Collecting langgraph', '#8 3.872   Downloading langgraph-0.5.3-py3-none-any.whl (143 kB)', '#8 3.889      ━━━━━━━━━━━━━━━━━━━━━━━━━━━━━━━━━━━━━━━ 143.8/143.8 kB 9.0 MB/s eta 0:00:00', '#8 3.986 Collecting langsmith[otel]', '#8 3.996   Downloading langsmith-0.4.8-py3-none-any.whl (367 kB)', '#8 4.025      ━━━━━━━━━━━━━━━━━━━━━━━━━━━━━━━━━━━━━━ 368.0/368.0 kB 13.1 MB/s eta 0:00:00', '#8 4.087 Collecting duckduckgo-search', '#8 4.097   Downloading duckduckgo_search-8.1.1-py3-none-any.whl (18 kB)', '#8 4.136 Collecting langchain-community', '#8 4.146   Downloading langchain_community-0.3.27-py3-none-any.whl (2.5 MB)', '#8 4.422      ━━━━━━━━━━━━━━━━━━━━━━━━━━━━━━━━━━━━━━━━ 2.5/2.5 MB 9.2 MB/s eta 0:00:00', '#8 4.486 Collecting opentelemetry-instrumentation-langchain', '#8 4.498   Downloading opentelemetry_instrumentation_langchain-0.42.0-py3-none-any.whl (15 kB)', '#8 4.543 Collecting starlette', '#8 4.553   Downloading starlette-0.47.1-py3-none-any.whl (72 kB)', '#8 4.570      ━━━━━━━━━━━━━━━━━━━━━━━━━━━━━━━━━━━━━━━━ 72.7/72.7 kB 12.9 MB/s eta 0:00:00', '#8 4.714 Collecting uvicorn', '#8 4.724   Downloading uvicorn-0.35.0-py3-none-any.whl (66 kB)', '#8 4.730      ━━━━━━━━━━━━━━━━━━━━━━━━━━━━━━━━━━━━━━━━ 66.4/66.4 kB 14.2 MB/s eta 0:00:00', '#8 4.750 Collecting bedrock-agentcore', '#8 4.761   Downloading bedrock_agentcore-0.1.0-py3-none-any.whl (48 kB)', '#8 4.766      ━━━━━━━━━━━━━━━━━━━━━━━━━━━━━━━━━━━━━━━━ 48.7/48.7 kB 14.0 MB/s eta 0:00:00', '#8 4.778 Collecting bedrock-agentcore-starter-toolkit', '#8 4.785   Downloading bedrock_agentcore_starter_toolkit-0.1.0-py3-none-any.whl (62 kB)', '#8 4.794      ━━━━━━━━━━━━━━━━━━━━━━━━━━━━━━━━━━━━━━━━ 62.7/62.7 kB 7.4 MB/s eta 0:00:00', '#8 4.879 Collecting langchain-core<1.0.0,>=0.3.66', '#8 4.888   Downloading langchain_core-0.3.69-py3-none-any.whl (441 kB)', '#8 4.930      ━━━━━━━━━━━━━━━━━━━━━━━━━━━━━━━━━━━━━━ 441.6/441.6 kB 10.6 MB/s eta 0:00:00', '#8 4.946 Collecting async-timeout<5.0.0,>=4.0.0', '#8 4.956   Downloading async_timeout-4.0.3-py3-none-any.whl (5.7 kB)', '#8 5.120 Collecting pydantic<3.0.0,>=2.7.4', '#8 5.129   Downloading pydantic-2.11.7-py3-none-any.whl (444 kB)', '#8 5.204      ━━━━━━━━━━━━━━━━━━━━━━━━━━━━━━━━━━━━━━━ 444.8/444.8 kB 6.3 MB/s eta 0:00:00', '#8 5.649 Collecting SQLAlchemy<3,>=1.4', '#8 5.659   Downloading sqlalchemy-2.0.41-cp310-cp310-manylinux_2_17_aarch64.manylinux2014_aarch64.whl (3.2 MB)', '#8 6.006      ━━━━━━━━━━━━━━━━━━━━━━━━━━━━━━━━━━━━━━━━ 3.2/3.2 MB 9.3 MB/s eta 0:00:00', '#8 6.070 Collecting requests<3,>=2', '#8 6.079   Downloading requests-2.32.4-py3-none-any.whl (64 kB)', '#8 6.086      ━━━━━━━━━━━━━━━━━━━━━━━━━━━━━━━━━━━━━━━━ 64.8/64.8 kB 12.4 MB/s eta 0:00:00', '#8 6.101 Collecting langchain-text-splitters<1.0.0,>=0.3.8', '#8 6.110   Downloading langchain_text_splitters-0.3.8-py3-none-any.whl (32 kB)', '#8 6.165 Collecting PyYAML>=5.3', '#8 6.176   Downloading PyYAML-6.0.2-cp310-cp310-manylinux_2_17_aarch64.manylinux2014_aarch64.whl (718 kB)', '#8 6.266      ━━━━━━━━━━━━━━━━━━━━━━━━━━━━━━━━━━━━━━━ 718.5/718.5 kB 8.5 MB/s eta 0:00:00', '#8 6.326 Collecting langchain-aws', '#8 6.339   Downloading langchain_aws-0.2.28-py3-none-any.whl (121 kB)', '#8 6.352      ━━━━━━━━━━━━━━━━━━━━━━━━━━━━━━━━━━━━━━ 121.5/121.5 kB 10.4 MB/s eta 0:00:00', '#8 6.395 Collecting langgraph-sdk<0.2.0,>=0.1.42', '#8 6.406   Downloading langgraph_sdk-0.1.73-py3-none-any.whl (50 kB)', '#8 6.419      ━━━━━━━━━━━━━━━━━━━━━━━━━━━━━━━━━━━━━━━━ 50.2/50.2 kB 13.4 MB/s eta 0:00:00', '#8 6.549 Collecting xxhash>=3.5.0', '#8 6.558   Downloading xxhash-3.5.0-cp310-cp310-manylinux_2_17_aarch64.manylinux2014_aarch64.whl (220 kB)', '#8 6.579      ━━━━━━━━━━━━━━━━━━━━━━━━━━━━━━━━━━━━━━ 220.9/220.9 kB 10.9 MB/s eta 0:00:00', '#8 6.606 Collecting langgraph-prebuilt<0.6.0,>=0.5.0', '#8 6.613   Downloading langgraph_prebuilt-0.5.2-py3-none-any.whl (23 kB)', '#8 6.644 Collecting langgraph-checkpoint<3.0.0,>=2.1.0', '#8 6.653   Downloading langgraph_checkpoint-2.1.1-py3-none-any.whl (43 kB)', '#8 6.655      ━━━━━━━━━━━━━━━━━━━━━━━━━━━━━━━━━━━━━━━ 43.9/43.9 kB 130.4 MB/s eta 0:00:00', '#8 6.681 Collecting requests-toolbelt<2.0.0,>=1.0.0', '#8 6.690   Downloading requests_toolbelt-1.0.0-py2.py3-none-any.whl (54 kB)', '#8 6.705      ━━━━━━━━━━━━━━━━━━━━━━━━━━━━━━━━━━━━━━━━ 54.5/54.5 kB 3.6 MB/s eta 0:00:00', '#8 6.735 Collecting packaging>=23.2', '#8 6.744   Downloading packaging-25.0-py3-none-any.whl (66 kB)', '#8 6.749      ━━━━━━━━━━━━━━━━━━━━━━━━━━━━━━━━━━━━━━━━ 66.5/66.5 kB 17.2 MB/s eta 0:00:00', '#8 6.860 Collecting zstandard<0.24.0,>=0.23.0', '#8 6.870   Downloading zstandard-0.23.0-cp310-cp310-manylinux_2_17_aarch64.manylinux2014_aarch64.whl (4.9 MB)', '#8 7.420      ━━━━━━━━━━━━━━━━━━━━━━━━━━━━━━━━━━━━━━━━ 4.9/4.9 MB 9.0 MB/s eta 0:00:00', '#8 7.817 Collecting orjson<4.0.0,>=3.9.14', '#8 7.824   Downloading orjson-3.11.0-cp310-cp310-manylinux_2_17_aarch64.manylinux2014_aarch64.whl (132 kB)', '#8 7.835      ━━━━━━━━━━━━━━━━━━━━━━━━━━━━━━━━━━━━━━ 132.5/132.5 kB 13.3 MB/s eta 0:00:00', '#8 7.877 Collecting httpx<1,>=0.23.0', '#8 7.884   Downloading httpx-0.28.1-py3-none-any.whl (73 kB)', '#8 7.891      ━━━━━━━━━━━━━━━━━━━━━━━━━━━━━━━━━━━━━━━━ 73.5/73.5 kB 10.2 MB/s eta 0:00:00', '#8 7.921 Collecting opentelemetry-exporter-otlp-proto-http<2.0.0,>=1.30.0', '#8 7.935   Downloading opentelemetry_exporter_otlp_proto_http-1.35.0-py3-none-any.whl (18 kB)', '#8 7.966 Collecting opentelemetry-sdk<2.0.0,>=1.30.0', '#8 7.982   Downloading opentelemetry_sdk-1.35.0-py3-none-any.whl (119 kB)', '#8 7.991      ━━━━━━━━━━━━━━━━━━━━━━━━━━━━━━━━━━━━━━ 119.4/119.4 kB 17.1 MB/s eta 0:00:00', '#8 8.022 Collecting opentelemetry-api<2.0.0,>=1.30.0', '#8 8.029   Downloading opentelemetry_api-1.35.0-py3-none-any.whl (65 kB)', '#8 8.044      ━━━━━━━━━━━━━━━━━━━━━━━━━━━━━━━━━━━━━━━━ 65.6/65.6 kB 6.7 MB/s eta 0:00:00', '#8 8.073 Collecting click>=8.1.8', '#8 8.080   Downloading click-8.2.1-py3-none-any.whl (102 kB)', '#8 8.088      ━━━━━━━━━━━━━━━━━━━━━━━━━━━━━━━━━━━━━━ 102.2/102.2 kB 14.5 MB/s eta 0:00:00', '#8 8.360 Collecting lxml>=5.3.0', '#8 8.370   Downloading lxml-6.0.0-cp310-cp310-manylinux_2_27_aarch64.manylinux_2_28_aarch64.whl (5.1 MB)', '#8 8.769      ━━━━━━━━━━━━━━━━━━━━━━━━━━━━━━━━━━━━━━━━ 5.1/5.1 MB 12.8 MB/s eta 0:00:00', '#8 8.805 Collecting primp>=0.15.0', '#8 8.812   Downloading primp-0.15.0-cp38-abi3-manylinux_2_34_aarch64.whl (3.3 MB)', '#8 9.069      ━━━━━━━━━━━━━━━━━━━━━━━━━━━━━━━━━━━━━━━━ 3.3/3.3 MB 12.8 MB/s eta 0:00:00', '#8 9.095 Collecting httpx-sse<1.0.0,>=0.4.0', '#8 9.106   Downloading httpx_sse-0.4.1-py3-none-any.whl (8.1 kB)', '#8 9.818 Collecting aiohttp<4.0.0,>=3.8.3', '#8 9.826   Downloading aiohttp-3.12.14-cp310-cp310-manylinux_2_17_aarch64.manylinux2014_aarch64.whl (1.6 MB)', '#8 9.939      ━━━━━━━━━━━━━━━━━━━━━━━━━━━━━━━━━━━━━━━━ 1.6/1.6 MB 14.6 MB/s eta 0:00:00', '#8 9.977 Collecting dataclasses-json<0.7,>=0.5.7', '#8 9.987   Downloading dataclasses_json-0.6.7-py3-none-any.whl (28 kB)', '#8 10.02 Collecting pydantic-settings<3.0.0,>=2.4.0', '#8 10.03   Downloading pydantic_settings-2.10.1-py3-none-any.whl (45 kB)', '#8 10.04      ━━━━━━━━━━━━━━━━━━━━━━━━━━━━━━━━━━━━━━━━ 45.2/45.2 kB 6.1 MB/s eta 0:00:00', '#8 10.31 Collecting numpy>=1.26.2', '#8 10.32   Downloading numpy-2.2.6-cp310-cp310-manylinux_2_17_aarch64.manylinux2014_aarch64.whl (14.3 MB)', '#8 11.43      ━━━━━━━━━━━━━━━━━━━━━━━━━━━━━━━━━━━━━━━━ 14.3/14.3 MB 12.5 MB/s eta 0:00:00', '#8 11.46 Collecting tenacity!=8.4.0,<10,>=8.1.0', '#8 11.47   Downloading tenacity-9.1.2-py3-none-any.whl (28 kB)', '#8 11.50 Collecting opentelemetry-semantic-conventions-ai==0.4.11', '#8 11.51   Downloading opentelemetry_semantic_conventions_ai-0.4.11-py3-none-any.whl (5.7 kB)', '#8 11.55 Collecting opentelemetry-semantic-conventions>=0.50b0', '#8 11.56   Downloading opentelemetry_semantic_conventions-0.56b0-py3-none-any.whl (201 kB)', '#8 11.59      ━━━━━━━━━━━━━━━━━━━━━━━━━━━━━━━━━━━━━━━ 201.6/201.6 kB 7.3 MB/s eta 0:00:00', '#8 11.63 Collecting opentelemetry-instrumentation>=0.50b0', '#8 11.64   Downloading opentelemetry_instrumentation-0.56b0-py3-none-any.whl (31 kB)', '#8 11.67 Collecting anyio<5,>=3.6.2', '#8 11.68   Downloading anyio-4.9.0-py3-none-any.whl (100 kB)', '#8 11.69      ━━━━━━━━━━━━━━━━━━━━━━━━━━━━━━━━━━━━━━ 100.9/100.9 kB 14.9 MB/s eta 0:00:00', '#8 11.72 Collecting typing-extensions>=4.10.0', '#8 11.73   Downloading typing_extensions-4.14.1-py3-none-any.whl (43 kB)', '#8 11.74      ━━━━━━━━━━━━━━━━━━━━━━━━━━━━━━━━━━━━━━━━ 43.9/43.9 kB 8.8 MB/s eta 0:00:00', '#8 11.77 Collecting h11>=0.8', '#8 11.78   Downloading h11-0.16.0-py3-none-any.whl (37 kB)', '#8 12.27 Collecting botocore', '#8 12.28   Downloading botocore-1.39.9-py3-none-any.whl (13.9 MB)', '#8 13.20      ━━━━━━━━━━━━━━━━━━━━━━━━━━━━━━━━━━━━━━━━ 13.9/13.9 MB 14.9 MB/s eta 0:00:00', '#8 13.25 Collecting urllib3>=1.26.0', '#8 13.26   Downloading urllib3-2.5.0-py3-none-any.whl (129 kB)', '#8 13.27      ━━━━━━━━━━━━━━━━━━━━━━━━━━━━━━━━━━━━━━ 129.8/129.8 kB 23.2 MB/s eta 0:00:00', '#8 13.70 Collecting boto3', '#8 13.71   Downloading boto3-1.39.9-py3-none-any.whl (139 kB)', '#8 13.72      ━━━━━━━━━━━━━━━━━━━━━━━━━━━━━━━━━━━━━━ 139.9/139.9 kB 13.7 MB/s eta 0:00:00', '#8 13.79 Collecting rich<15.0.0,>=14.0.0', '#8 13.81   Downloading rich-14.0.0-py3-none-any.whl (243 kB)', '#8 13.82      ━━━━━━━━━━━━━━━━━━━━━━━━━━━━━━━━━━━━━━ 243.2/243.2 kB 28.7 MB/s eta 0:00:00', '#8 13.85 Collecting prompt-toolkit>=3.0.51', '#8 13.86   Downloading prompt_toolkit-3.0.51-py3-none-any.whl (387 kB)', '#8 13.89      ━━━━━━━━━━━━━━━━━━━━━━━━━━━━━━━━━━━━━━ 387.8/387.8 kB 18.5 MB/s eta 0:00:00', '#8 13.99 Collecting typer>=0.16.0', '#8 14.00   Downloading typer-0.16.0-py3-none-any.whl (46 kB)', '#8 14.00      ━━━━━━━━━━━━━━━━━━━━━━━━━━━━━━━━━━━━━━━━ 46.3/46.3 kB 47.7 MB/s eta 0:00:00', '#8 14.02 Collecting docstring-parser<1.0,>=0.15', '#8 14.03   Downloading docstring_parser-0.16-py3-none-any.whl (36 kB)', '#8 14.07 Collecting jinja2>=3.1.6', '#8 14.08   Downloading jinja2-3.1.6-py3-none-any.whl (134 kB)', '#8 14.09      ━━━━━━━━━━━━━━━━━━━━━━━━━━━━━━━━━━━━━━ 134.9/134.9 kB 13.7 MB/s eta 0:00:00', '#8 14.18 Collecting toml>=0.10.2', '#8 14.19   Downloading toml-0.10.2-py2.py3-none-any.whl (16 kB)', '#8 14.56 Collecting yarl<2.0,>=1.17.0', '#8 14.57   Downloading yarl-1.20.1-cp310-cp310-manylinux_2_17_aarch64.manylinux2014_aarch64.whl (323 kB)', '#8 14.65      ━━━━━━━━━━━━━━━━━━━━━━━━━━━━━━━━━━━━━━━ 323.8/323.8 kB 4.8 MB/s eta 0:00:00', '#8 14.56 Collecting attrs>=17.3.0', '#8 14.57   Downloading attrs-25.3.0-py3-none-any.whl (63 kB)', '#8 14.58      ━━━━━━━━━━━━━━━━━━━━━━━━━━━━━━━━━━━━━━━━ 63.8/63.8 kB 5.4 MB/s eta 0:00:00', '#8 14.64 Collecting propcache>=0.2.0', '#8 14.65   Downloading propcache-0.3.2-cp310-cp310-manylinux_2_17_aarch64.manylinux2014_aarch64.whl (201 kB)', '#8 14.67      ━━━━━━━━━━━━━━━━━━━━━━━━━━━━━━━━━━━━━━ 201.9/201.9 kB 13.9 MB/s eta 0:00:00', '#8 15.08 Collecting multidict<7.0,>=4.5', '#8 15.09   Downloading multidict-6.6.3-cp310-cp310-manylinux2014_aarch64.manylinux_2_17_aarch64.manylinux_2_28_aarch64.whl (242 kB)', '#8 15.11      ━━━━━━━━━━━━━━━━━━━━━━━━━━━━━━━━━━━━━━ 242.5/242.5 kB 11.6 MB/s eta 0:00:00', '#8 15.20 Collecting frozenlist>=1.1.1', '#8 15.21   Downloading frozenlist-1.7.0-cp310-cp310-manylinux_2_17_aarch64.manylinux2014_aarch64.whl (224 kB)', '#8 15.24      ━━━━━━━━━━━━━━━━━━━━━━━━━━━━━━━━━━━━━━ 224.6/224.6 kB 11.0 MB/s eta 0:00:00', '#8 15.26 Collecting aiosignal>=1.4.0', '#8 15.27   Downloading aiosignal-1.4.0-py3-none-any.whl (7.5 kB)', '#8 15.30 Collecting aiohappyeyeballs>=2.5.0', '#8 15.32   Downloading aiohappyeyeballs-2.6.1-py3-none-any.whl (15 kB)', '#8 15.35 Collecting exceptiongroup>=1.0.2', '#8 15.36   Downloading exceptiongroup-1.3.0-py3-none-any.whl (16 kB)', '#8 15.38 Collecting sniffio>=1.1', '#8 15.38   Downloading sniffio-1.3.1-py3-none-any.whl (10 kB)', '#8 15.42 Collecting idna>=2.8', '#8 15.43   Downloading idna-3.10-py3-none-any.whl (70 kB)', '#8 15.44      ━━━━━━━━━━━━━━━━━━━━━━━━━━━━━━━━━━━━━━━━ 70.4/70.4 kB 11.5 MB/s eta 0:00:00', '#8 15.58 Collecting jmespath<2.0.0,>=0.7.1', '#8 15.59   Downloading jmespath-1.0.1-py3-none-any.whl (20 kB)', '#8 15.63 Collecting s3transfer<0.14.0,>=0.13.0', '#8 15.64   Downloading s3transfer-0.13.1-py3-none-any.whl (85 kB)', '#8 15.65      ━━━━━━━━━━━━━━━━━━━━━━━━━━━━━━━━━━━━━━━━ 85.3/85.3 kB 14.3 MB/s eta 0:00:00', '#8 15.69 Collecting python-dateutil<3.0.0,>=2.1', '#8 15.69   Downloading python_dateutil-2.9.0.post0-py2.py3-none-any.whl (229 kB)', '#8 15.72      ━━━━━━━━━━━━━━━━━━━━━━━━━━━━━━━━━━━━━━━ 229.9/229.9 kB 9.8 MB/s eta 0:00:00', '#8 15.75 Collecting typing-inspect<1,>=0.4.0', '#8 15.76   Downloading typing_inspect-0.9.0-py3-none-any.whl (8.8 kB)', '#8 15.82 Collecting marshmallow<4.0.0,>=3.18.0', '#8 15.83   Downloading marshmallow-3.26.1-py3-none-any.whl (50 kB)', '#8 15.83      ━━━━━━━━━━━━━━━━━━━━━━━━━━━━━━━━━━━━━━━━ 50.9/50.9 kB 17.0 MB/s eta 0:00:00', '#8 15.87 Collecting httpcore==1.*', '#8 15.88   Downloading httpcore-1.0.9-py3-none-any.whl (78 kB)', '#8 15.89      ━━━━━━━━━━━━━━━━━━━━━━━━━━━━━━━━━━━━━━━━ 78.8/78.8 kB 8.4 MB/s eta 0:00:00', '#8 15.91 Collecting certifi', '#8 15.92   Downloading certifi-2025.7.14-py3-none-any.whl (162 kB)', '#8 15.94      ━━━━━━━━━━━━━━━━━━━━━━━━━━━━━━━━━━━━━━ 162.7/162.7 kB 11.6 MB/s eta 0:00:00', '#8 16.02 Collecting MarkupSafe>=2.0', '#8 16.03   Downloading MarkupSafe-3.0.2-cp310-cp310-manylinux_2_17_aarch64.manylinux2014_aarch64.whl (21 kB)', '#8 16.07 Collecting jsonpatch<2.0,>=1.33', '#8 16.08   Downloading jsonpatch-1.33-py2.py3-none-any.whl (12 kB)', '#8 16.17 Collecting ormsgpack>=1.10.0', '#8 16.18   Downloading ormsgpack-1.10.0-cp310-cp310-manylinux_2_17_aarch64.manylinux2014_aarch64.whl (204 kB)', '#8 16.21      ━━━━━━━━━━━━━━━━━━━━━━━━━━━━━━━━━━━━━━━ 204.3/204.3 kB 7.0 MB/s eta 0:00:00', '#8 16.30 Collecting importlib-metadata<8.8.0,>=6.0', '#8 16.31   Downloading importlib_metadata-8.7.0-py3-none-any.whl (27 kB)', '#8 16.34 Collecting opentelemetry-exporter-otlp-proto-common==1.35.0', '#8 16.35   Downloading opentelemetry_exporter_otlp_proto_common-1.35.0-py3-none-any.whl (18 kB)', '#8 16.40 Collecting googleapis-common-protos~=1.52', '#8 16.41   Downloading googleapis_common_protos-1.70.0-py3-none-any.whl (294 kB)', '#8 16.45      ━━━━━━━━━━━━━━━━━━━━━━━━━━━━━━━━━━━━━━━ 294.5/294.5 kB 9.1 MB/s eta 0:00:00', '#8 16.50 Collecting opentelemetry-proto==1.35.0', '#8 16.51   Downloading opentelemetry_proto-1.35.0-py3-none-any.whl (72 kB)', '#8 16.52      ━━━━━━━━━━━━━━━━━━━━━━━━━━━━━━━━━━━━━━━━ 72.5/72.5 kB 9.5 MB/s eta 0:00:00', '#8 16.74 Collecting protobuf<7.0,>=5.0', '#8 16.78   Downloading protobuf-6.31.1-cp39-abi3-manylinux2014_aarch64.whl (322 kB)', '#8 16.80      ━━━━━━━━━━━━━━━━━━━━━━━━━━━━━━━━━━━━━━ 322.1/322.1 kB 13.3 MB/s eta 0:00:00', '#8 16.92 Collecting wrapt<2.0.0,>=1.0.0', '#8 16.93   Downloading wrapt-1.17.2-cp310-cp310-manylinux_2_17_aarch64.manylinux2014_aarch64.whl (83 kB)', '#8 16.94      ━━━━━━━━━━━━━━━━━━━━━━━━━━━━━━━━━━━━━━━━ 83.3/83.3 kB 8.7 MB/s eta 0:00:00', '#8 16.99 Collecting wcwidth', '#8 17.00   Downloading wcwidth-0.2.13-py2.py3-none-any.whl (34 kB)', '#8 17.02 Collecting typing-inspection>=0.4.0', '#8 17.03   Downloading typing_inspection-0.4.1-py3-none-any.whl (14 kB)', '#8 18.03 Collecting pydantic-core==2.33.2', '#8 18.04   Downloading pydantic_core-2.33.2-cp310-cp310-manylinux_2_17_aarch64.manylinux2014_aarch64.whl (1.9 MB)', '#8 18.39      ━━━━━━━━━━━━━━━━━━━━━━━━━━━━━━━━━━━━━━━━ 1.9/1.9 MB 5.4 MB/s eta 0:00:00', '#8 18.41 Collecting annotated-types>=0.6.0', '#8 18.42   Downloading annotated_types-0.7.0-py3-none-any.whl (13 kB)', '#8 18.48 Collecting python-dotenv>=0.21.0', '#8 18.51   Downloading python_dotenv-1.1.1-py3-none-any.whl (20 kB)', '#8 18.64 Collecting charset_normalizer<4,>=2', '#8 18.65   Downloading charset_normalizer-3.4.2-cp310-cp310-manylinux_2_17_aarch64.manylinux2014_aarch64.whl (144 kB)', '#8 18.66      ━━━━━━━━━━━━━━━━━━━━━━━━━━━━━━━━━━━━━━ 144.6/144.6 kB 13.4 MB/s eta 0:00:00', '#8 18.72 Collecting pygments<3.0.0,>=2.13.0', '#8 18.73   Downloading pygments-2.19.2-py3-none-any.whl (1.2 MB)', '#8 18.85      ━━━━━━━━━━━━━━━━━━━━━━━━━━━━━━━━━━━━━━━━ 1.2/1.2 MB 10.4 MB/s eta 0:00:00', '#8 18.88 Collecting markdown-it-py>=2.2.0', '#8 18.88   Downloading markdown_it_py-3.0.0-py3-none-any.whl (87 kB)', '#8 18.89      ━━━━━━━━━━━━━━━━━━━━━━━━━━━━━━━━━━━━━━━━ 87.5/87.5 kB 7.9 MB/s eta 0:00:00', '#8 19.08 Collecting greenlet>=1', '#8 19.09   Downloading greenlet-3.2.3-cp310-cp310-manylinux2014_aarch64.manylinux_2_17_aarch64.whl (627 kB)', '#8 19.14      ━━━━━━━━━━━━━━━━━━━━━━━━━━━━━━━━━━━━━━ 627.4/627.4 kB 12.6 MB/s eta 0:00:00', '#8 19.19 Collecting shellingham>=1.3.0', '#8 19.20   Downloading shellingham-1.5.4-py2.py3-none-any.whl (9.8 kB)', '#8 19.27 Collecting numpy>=1.26.2', '#8 19.28   Downloading numpy-1.26.4-cp310-cp310-manylinux_2_17_aarch64.manylinux2014_aarch64.whl (14.2 MB)', '#8 20.69      ━━━━━━━━━━━━━━━━━━━━━━━━━━━━━━━━━━━━━━━━ 14.2/14.2 MB 10.0 MB/s eta 0:00:00', '#8 20.94 Collecting zipp>=3.20', '#8 20.95   Downloading zipp-3.23.0-py3-none-any.whl (10 kB)', '#8 20.99 Collecting jsonpointer>=1.9', '#8 20.99   Downloading jsonpointer-3.0.0-py2.py3-none-any.whl (7.6 kB)', '#8 21.03 Collecting mdurl~=0.1', '#8 21.04   Downloading mdurl-0.1.2-py3-none-any.whl (10.0 kB)', '#8 21.11 Collecting six>=1.5', '#8 21.12   Downloading six-1.17.0-py2.py3-none-any.whl (11 kB)', '#8 21.25 Collecting mypy-extensions>=0.3.0', '#8 21.26   Downloading mypy_extensions-1.1.0-py3-none-any.whl (5.0 kB)', '#8 21.60 Installing collected packages: wcwidth, zstandard, zipp, xxhash, wrapt, uv, urllib3, typing-extensions, toml, tenacity, sniffio, six, shellingham, PyYAML, python-dotenv, pygments, protobuf, propcache, prompt-toolkit, primp, packaging, ormsgpack, orjson, opentelemetry-semantic-conventions-ai, numpy, mypy-extensions, mdurl, MarkupSafe, lxml, jsonpointer, jmespath, idna, httpx-sse, h11, greenlet, frozenlist, docstring-parser, click, charset_normalizer, certifi, attrs, async-timeout, annotated-types, aiohappyeyeballs, uvicorn, typing-inspection, typing-inspect, SQLAlchemy, requests, python-dateutil, pydantic-core, opentelemetry-proto, multidict, marshmallow, markdown-it-py, jsonpatch, jinja2, importlib-metadata, httpcore, googleapis-common-protos, exceptiongroup, duckduckgo-search, aiosignal, yarl, rich, requests-toolbelt, pydantic, opentelemetry-exporter-otlp-proto-common, opentelemetry-api, dataclasses-json, botocore, anyio, typer, starlette, s3transfer, pydantic-settings, opentelemetry-semantic-conventions, httpx, aiohttp, opentelemetry-sdk, opentelemetry-instrumentation, langsmith, langgraph-sdk, boto3, opentelemetry-instrumentation-langchain, opentelemetry-exporter-otlp-proto-http, langchain-core, bedrock-agentcore, langgraph-checkpoint, langchain-text-splitters, langchain-aws, bedrock-agentcore-starter-toolkit, langgraph-prebuilt, langchain, langgraph, langchain-community', '#8 28.52 Successfully installed MarkupSafe-3.0.2 PyYAML-6.0.2 SQLAlchemy-2.0.41 aiohappyeyeballs-2.6.1 aiohttp-3.12.14 aiosignal-1.4.0 annotated-types-0.7.0 anyio-4.9.0 async-timeout-4.0.3 attrs-25.3.0 bedrock-agentcore-0.1.0 bedrock-agentcore-starter-toolkit-0.1.0 boto3-1.39.9 botocore-1.39.9 certifi-2025.7.14 charset_normalizer-3.4.2 click-8.2.1 dataclasses-json-0.6.7 docstring-parser-0.16 duckduckgo-search-8.1.1 exceptiongroup-1.3.0 frozenlist-1.7.0 googleapis-common-protos-1.70.0 greenlet-3.2.3 h11-0.16.0 httpcore-1.0.9 httpx-0.28.1 httpx-sse-0.4.1 idna-3.10 importlib-metadata-8.7.0 jinja2-3.1.6 jmespath-1.0.1 jsonpatch-1.33 jsonpointer-3.0.0 langchain-0.3.26 langchain-aws-0.2.28 langchain-community-0.3.27 langchain-core-0.3.69 langchain-text-splitters-0.3.8 langgraph-0.5.3 langgraph-checkpoint-2.1.1 langgraph-prebuilt-0.5.2 langgraph-sdk-0.1.73 langsmith-0.4.8 lxml-6.0.0 markdown-it-py-3.0.0 marshmallow-3.26.1 mdurl-0.1.2 multidict-6.6.3 mypy-extensions-1.1.0 numpy-1.26.4 opentelemetry-api-1.35.0 opentelemetry-exporter-otlp-proto-common-1.35.0 opentelemetry-exporter-otlp-proto-http-1.35.0 opentelemetry-instrumentation-0.56b0 opentelemetry-instrumentation-langchain-0.42.0 opentelemetry-proto-1.35.0 opentelemetry-sdk-1.35.0 opentelemetry-semantic-conventions-0.56b0 opentelemetry-semantic-conventions-ai-0.4.11 orjson-3.11.0 ormsgpack-1.10.0 packaging-25.0 primp-0.15.0 prompt-toolkit-3.0.51 propcache-0.3.2 protobuf-6.31.1 pydantic-2.11.7 pydantic-core-2.33.2 pydantic-settings-2.10.1 pygments-2.19.2 python-dateutil-2.9.0.post0 python-dotenv-1.1.1 requests-2.32.4 requests-toolbelt-1.0.0 rich-14.0.0 s3transfer-0.13.1 shellingham-1.5.4 six-1.17.0 sniffio-1.3.1 starlette-0.47.1 tenacity-9.1.2 toml-0.10.2 typer-0.16.0 typing-extensions-4.14.1 typing-inspect-0.9.0 typing-inspection-0.4.1 urllib3-2.5.0 uv-0.8.0 uvicorn-0.35.0 wcwidth-0.2.13 wrapt-1.17.2 xxhash-3.5.0 yarl-1.20.1 zipp-3.23.0 zstandard-0.23.0', \"#8 28.53 WARNING: Running pip as the 'root' user can result in broken permissions and conflicting behaviour with the system package manager. It is recommended to use a virtual environment instead: https://pip.pypa.io/warnings/venv\", '#8 28.62', '#8 28.62 [notice] A new release of pip is available: 23.0.1 -> 25.1.1', '#8 28.62 [notice] To update, run: pip install --upgrade pip', '#8 DONE 30.1s', '#9 [5/6] RUN python -m pip install aws_opentelemetry_distro_genai_beta>=0.1.2', \"#9 7.242 WARNING: Running pip as the 'root' user can result in broken permissions and conflicting behaviour with the system package manager. It is recommended to use a virtual environment instead: https://pip.pypa.io/warnings/venv\", '#9 7.357', '#9 7.357 [notice] A new release of pip is available: 23.0.1 -> 25.1.1', '#9 7.357 [notice] To update, run: pip install --upgrade pip', '#9 DONE 7.7s', '#10 [6/6] RUN useradd -m -u 1000 bedrock_agentcore', '#10 DONE 0.2s', '#11 exporting to image', '#11 exporting layers', '#11 exporting layers 1.2s done', '#11 writing image sha256:a38baa4d7201536ff0c5778a9033260b4fa51a211003602736f55fc9cc3c3fca', '#11 writing image sha256:a38baa4d7201536ff0c5778a9033260b4fa51a211003602736f55fc9cc3c3fca done', '#11 naming to docker.io/library/bedrock_agentcore-langgraph_bedrock:latest done', '#11 DONE 1.2s', 'View build details: docker-desktop://dashboard/build/default/default/ppxwke4v4v569mjr2buz555lm'])"
      ]
     },
     "execution_count": 7,
     "metadata": {},
     "output_type": "execute_result"
    }
   ],
   "source": [
    "launch_result = agentcore_runtime.launch()\n",
    "launch_result"
   ]
  },
  {
   "cell_type": "markdown",
   "id": "a0ae9c09-09db-4a76-871a-92eacd96b9c3",
   "metadata": {},
   "source": [
    "### Checking for the AgentCore Runtime Status\n",
    "Now that we've deployed the AgentCore Runtime, let's check for it's deployment status"
   ]
  },
  {
   "cell_type": "code",
   "execution_count": 8,
   "id": "afa6ac09-9adb-4846-9fc1-4d12aeb74853",
   "metadata": {},
   "outputs": [
    {
     "name": "stderr",
     "output_type": "stream",
     "text": [
      "Retrieved Bedrock AgentCore status for: langgraph_bedrock\n"
     ]
    },
    {
     "data": {
      "text/plain": [
       "'READY'"
      ]
     },
     "execution_count": 8,
     "metadata": {},
     "output_type": "execute_result"
    }
   ],
   "source": [
    "status_response = agentcore_runtime.status()\n",
    "status = status_response.endpoint['status']\n",
    "end_status = ['READY', 'CREATE_FAILED', 'DELETE_FAILED', 'UPDATE_FAILED']\n",
    "while status not in end_status:\n",
    "    time.sleep(10)\n",
    "    status_response = agentcore_runtime.status()\n",
    "    status = status_response.endpoint['status']\n",
    "    print(status)\n",
    "status"
   ]
  },
  {
   "cell_type": "markdown",
   "id": "b7f89c56-918a-4cab-beaa-c7ac43a2ba29",
   "metadata": {},
   "source": [
    "### Invoking AgentCore Runtime\n",
    "\n",
    "Finally, we can invoke our AgentCore Runtime with a payload\n",
    "\n",
    "<div style=\"text-align:left\">\n",
    "    <img src=\"images/invoke.png\" width=75%\"/>\n",
    "</div>"
   ]
  },
  {
   "cell_type": "code",
   "execution_count": 9,
   "id": "3d909e42-e1a0-407f-84c2-3d16cc889cd3",
   "metadata": {},
   "outputs": [
    {
     "data": {
      "text/plain": [
       "{'ResponseMetadata': {'RequestId': '01b36eb0-486f-4f6a-824b-a2cc53a8b366',\n",
       "  'HTTPStatusCode': 200,\n",
       "  'HTTPHeaders': {'date': 'Sat, 19 Jul 2025 10:11:26 GMT',\n",
       "   'content-type': 'application/json',\n",
       "   'transfer-encoding': 'chunked',\n",
       "   'connection': 'keep-alive',\n",
       "   'x-amzn-requestid': '01b36eb0-486f-4f6a-824b-a2cc53a8b366',\n",
       "   'baggage': 'Self=1-687b6f44-05b3fa8c385b22e145238a9a,session.id=557c9ad3-506e-4736-aefa-fa0d70a9ac9c',\n",
       "   'x-amzn-bedrock-agentcore-runtime-session-id': '557c9ad3-506e-4736-aefa-fa0d70a9ac9c',\n",
       "   'x-amzn-trace-id': 'Root=1-687b6f44-07462fa66a55da9e2adff1f6;Self=1-687b6f44-05b3fa8c385b22e145238a9a'},\n",
       "  'RetryAttempts': 0},\n",
       " 'runtimeSessionId': '557c9ad3-506e-4736-aefa-fa0d70a9ac9c',\n",
       " 'traceId': 'Root=1-687b6f44-07462fa66a55da9e2adff1f6;Self=1-687b6f44-05b3fa8c385b22e145238a9a',\n",
       " 'baggage': 'Self=1-687b6f44-05b3fa8c385b22e145238a9a,session.id=557c9ad3-506e-4736-aefa-fa0d70a9ac9c',\n",
       " 'contentType': 'application/json',\n",
       " 'statusCode': 200,\n",
       " 'response': [b'\"2 + 2 = 4\"']}"
      ]
     },
     "execution_count": 9,
     "metadata": {},
     "output_type": "execute_result"
    }
   ],
   "source": [
    "invoke_response = agentcore_runtime.invoke({\"prompt\": \"How much is 2+2?\"})\n",
    "invoke_response"
   ]
  },
  {
   "cell_type": "markdown",
   "id": "fefa09f2-d25a-483f-aedb-11690bb8923a",
   "metadata": {},
   "source": [
    "### Processing invocation results\n",
    "\n",
    "We can now process our invocation results to include it in an application"
   ]
  },
  {
   "cell_type": "code",
   "execution_count": 10,
   "id": "11249103-cfb3-47b5-970d-981a977a225a",
   "metadata": {
    "scrolled": true
   },
   "outputs": [
    {
     "data": {
      "text/markdown": [
       "2 + 2 = 4"
      ],
      "text/plain": [
       "<IPython.core.display.Markdown object>"
      ]
     },
     "metadata": {},
     "output_type": "display_data"
    }
   ],
   "source": [
    "from IPython.display import Markdown, display\n",
    "response_text = json.loads(invoke_response['response'][0].decode(\"utf-8\"))\n",
    "display(Markdown(response_text))"
   ]
  },
  {
   "cell_type": "markdown",
   "id": "2c1d2bce-be41-478c-8bed-b4037c385795",
   "metadata": {},
   "source": [
    "### Invoking AgentCore Runtime with boto3\n",
    "\n",
    "Now that your AgentCore Runtime was created you can invoke it with any AWS SDK. For instance, you can use the boto3 `invoke_agent_runtime` method for it."
   ]
  },
  {
   "cell_type": "code",
   "execution_count": 11,
   "id": "7f84e68d-6c04-41b9-bf5b-60edc3fa0985",
   "metadata": {},
   "outputs": [
    {
     "data": {
      "text/markdown": [
       "The weather is currently sunny."
      ],
      "text/plain": [
       "<IPython.core.display.Markdown object>"
      ]
     },
     "metadata": {},
     "output_type": "display_data"
    }
   ],
   "source": [
    "agent_arn = launch_result.agent_arn\n",
    "agentcore_client = boto3.client(\n",
    "    'bedrock-agentcore',\n",
    "    region_name=region\n",
    ")\n",
    "\n",
    "boto3_response = agentcore_client.invoke_agent_runtime(\n",
    "    agentRuntimeArn=agent_arn,\n",
    "    qualifier=\"DEFAULT\",\n",
    "    payload=json.dumps({\"prompt\": \"What is the weather now?\"})\n",
    ")\n",
    "if \"text/event-stream\" in boto3_response.get(\"contentType\", \"\"):\n",
    "    content = []\n",
    "    for line in boto3_response[\"response\"].iter_lines(chunk_size=1):\n",
    "        if line:\n",
    "            line = line.decode(\"utf-8\")\n",
    "            if line.startswith(\"data: \"):\n",
    "                line = line[6:]\n",
    "                logger.info(line)\n",
    "                content.append(line)\n",
    "    display(Markdown(\"\\n\".join(content)))\n",
    "else:\n",
    "    try:\n",
    "        events = []\n",
    "        for event in boto3_response.get(\"response\", []):\n",
    "            events.append(event)\n",
    "    except Exception as e:\n",
    "        events = [f\"Error reading EventStream: {e}\"]\n",
    "    display(Markdown(json.loads(events[0].decode(\"utf-8\"))))"
   ]
  },
  {
   "cell_type": "markdown",
   "id": "7d3fdfe404469632",
   "metadata": {},
   "source": [
    "## Cleanup (Optional)\n",
    "\n",
    "Let's now clean up the AgentCore Runtime created"
   ]
  },
  {
   "cell_type": "code",
   "execution_count": 12,
   "id": "08f86824-c775-4ad4-aaee-f18e8cf390b9",
   "metadata": {},
   "outputs": [
    {
     "data": {
      "text/plain": [
       "('720025708473.dkr.ecr.us-west-2.amazonaws.com/bedrock_agentcore-langgraph_bedrock',\n",
       " 'langgraph_bedrock-p1Ombu8VZz',\n",
       " 'bedrock_agentcore-langgraph_bedrock')"
      ]
     },
     "execution_count": 12,
     "metadata": {},
     "output_type": "execute_result"
    }
   ],
   "source": [
    "launch_result.ecr_uri, launch_result.agent_id, launch_result.ecr_uri.split('/')[1]"
   ]
  },
  {
   "cell_type": "code",
   "execution_count": 14,
   "id": "76a6cf1416830a54",
   "metadata": {},
   "outputs": [
    {
     "ename": "ResourceNotFoundException",
     "evalue": "An error occurred (ResourceNotFoundException) when calling the DeleteAgentRuntime operation: Agent with agentId: langgraph_bedrock-p1Ombu8VZz, accountId: 720025708473 not found!",
     "output_type": "error",
     "traceback": [
      "\u001b[0;31m---------------------------------------------------------------------------\u001b[0m",
      "\u001b[0;31mResourceNotFoundException\u001b[0m                 Traceback (most recent call last)",
      "Cell \u001b[0;32mIn[14], line 13\u001b[0m\n\u001b[1;32m      5\u001b[0m ecr_client \u001b[38;5;241m=\u001b[39m boto3\u001b[38;5;241m.\u001b[39mclient(\n\u001b[1;32m      6\u001b[0m     \u001b[38;5;124m'\u001b[39m\u001b[38;5;124mecr\u001b[39m\u001b[38;5;124m'\u001b[39m,\n\u001b[1;32m      7\u001b[0m     region_name\u001b[38;5;241m=\u001b[39mregion\n\u001b[1;32m      8\u001b[0m     \n\u001b[1;32m      9\u001b[0m )\n\u001b[1;32m     11\u001b[0m iam_client \u001b[38;5;241m=\u001b[39m boto3\u001b[38;5;241m.\u001b[39mclient(\u001b[38;5;124m'\u001b[39m\u001b[38;5;124miam\u001b[39m\u001b[38;5;124m'\u001b[39m)\n\u001b[0;32m---> 13\u001b[0m runtime_delete_response \u001b[38;5;241m=\u001b[39m \u001b[43magentcore_control_client\u001b[49m\u001b[38;5;241;43m.\u001b[39;49m\u001b[43mdelete_agent_runtime\u001b[49m\u001b[43m(\u001b[49m\n\u001b[1;32m     14\u001b[0m \u001b[43m    \u001b[49m\u001b[43magentRuntimeId\u001b[49m\u001b[38;5;241;43m=\u001b[39;49m\u001b[43mlaunch_result\u001b[49m\u001b[38;5;241;43m.\u001b[39;49m\u001b[43magent_id\u001b[49m\n\u001b[1;32m     15\u001b[0m \u001b[43m)\u001b[49m\n\u001b[1;32m     17\u001b[0m response \u001b[38;5;241m=\u001b[39m ecr_client\u001b[38;5;241m.\u001b[39mdelete_repository(\n\u001b[1;32m     18\u001b[0m     repositoryName\u001b[38;5;241m=\u001b[39mlaunch_result\u001b[38;5;241m.\u001b[39mecr_uri\u001b[38;5;241m.\u001b[39msplit(\u001b[38;5;124m'\u001b[39m\u001b[38;5;124m/\u001b[39m\u001b[38;5;124m'\u001b[39m)[\u001b[38;5;241m1\u001b[39m],\n\u001b[1;32m     19\u001b[0m     force\u001b[38;5;241m=\u001b[39m\u001b[38;5;28;01mTrue\u001b[39;00m\n\u001b[1;32m     20\u001b[0m )\n\u001b[1;32m     22\u001b[0m policies \u001b[38;5;241m=\u001b[39m iam_client\u001b[38;5;241m.\u001b[39mlist_role_policies(\n\u001b[1;32m     23\u001b[0m     RoleName\u001b[38;5;241m=\u001b[39magentcore_iam_role[\u001b[38;5;124m'\u001b[39m\u001b[38;5;124mRole\u001b[39m\u001b[38;5;124m'\u001b[39m][\u001b[38;5;124m'\u001b[39m\u001b[38;5;124mRoleName\u001b[39m\u001b[38;5;124m'\u001b[39m],\n\u001b[1;32m     24\u001b[0m     MaxItems\u001b[38;5;241m=\u001b[39m\u001b[38;5;241m100\u001b[39m\n\u001b[1;32m     25\u001b[0m )\n",
      "File \u001b[0;32m~/Documents/GitHub/amazon-bedrock-agentcore-samples/.venv/lib/python3.10/site-packages/botocore/client.py:601\u001b[0m, in \u001b[0;36mClientCreator._create_api_method.<locals>._api_call\u001b[0;34m(self, *args, **kwargs)\u001b[0m\n\u001b[1;32m    597\u001b[0m     \u001b[38;5;28;01mraise\u001b[39;00m \u001b[38;5;167;01mTypeError\u001b[39;00m(\n\u001b[1;32m    598\u001b[0m         \u001b[38;5;124mf\u001b[39m\u001b[38;5;124m\"\u001b[39m\u001b[38;5;132;01m{\u001b[39;00mpy_operation_name\u001b[38;5;132;01m}\u001b[39;00m\u001b[38;5;124m() only accepts keyword arguments.\u001b[39m\u001b[38;5;124m\"\u001b[39m\n\u001b[1;32m    599\u001b[0m     )\n\u001b[1;32m    600\u001b[0m \u001b[38;5;66;03m# The \"self\" in this scope is referring to the BaseClient.\u001b[39;00m\n\u001b[0;32m--> 601\u001b[0m \u001b[38;5;28;01mreturn\u001b[39;00m \u001b[38;5;28;43mself\u001b[39;49m\u001b[38;5;241;43m.\u001b[39;49m\u001b[43m_make_api_call\u001b[49m\u001b[43m(\u001b[49m\u001b[43moperation_name\u001b[49m\u001b[43m,\u001b[49m\u001b[43m \u001b[49m\u001b[43mkwargs\u001b[49m\u001b[43m)\u001b[49m\n",
      "File \u001b[0;32m~/Documents/GitHub/amazon-bedrock-agentcore-samples/.venv/lib/python3.10/site-packages/botocore/context.py:123\u001b[0m, in \u001b[0;36mwith_current_context.<locals>.decorator.<locals>.wrapper\u001b[0;34m(*args, **kwargs)\u001b[0m\n\u001b[1;32m    121\u001b[0m \u001b[38;5;28;01mif\u001b[39;00m hook:\n\u001b[1;32m    122\u001b[0m     hook()\n\u001b[0;32m--> 123\u001b[0m \u001b[38;5;28;01mreturn\u001b[39;00m \u001b[43mfunc\u001b[49m\u001b[43m(\u001b[49m\u001b[38;5;241;43m*\u001b[39;49m\u001b[43margs\u001b[49m\u001b[43m,\u001b[49m\u001b[43m \u001b[49m\u001b[38;5;241;43m*\u001b[39;49m\u001b[38;5;241;43m*\u001b[39;49m\u001b[43mkwargs\u001b[49m\u001b[43m)\u001b[49m\n",
      "File \u001b[0;32m~/Documents/GitHub/amazon-bedrock-agentcore-samples/.venv/lib/python3.10/site-packages/botocore/client.py:1074\u001b[0m, in \u001b[0;36mBaseClient._make_api_call\u001b[0;34m(self, operation_name, api_params)\u001b[0m\n\u001b[1;32m   1070\u001b[0m     error_code \u001b[38;5;241m=\u001b[39m request_context\u001b[38;5;241m.\u001b[39mget(\n\u001b[1;32m   1071\u001b[0m         \u001b[38;5;124m'\u001b[39m\u001b[38;5;124merror_code_override\u001b[39m\u001b[38;5;124m'\u001b[39m\n\u001b[1;32m   1072\u001b[0m     ) \u001b[38;5;129;01mor\u001b[39;00m error_info\u001b[38;5;241m.\u001b[39mget(\u001b[38;5;124m\"\u001b[39m\u001b[38;5;124mCode\u001b[39m\u001b[38;5;124m\"\u001b[39m)\n\u001b[1;32m   1073\u001b[0m     error_class \u001b[38;5;241m=\u001b[39m \u001b[38;5;28mself\u001b[39m\u001b[38;5;241m.\u001b[39mexceptions\u001b[38;5;241m.\u001b[39mfrom_code(error_code)\n\u001b[0;32m-> 1074\u001b[0m     \u001b[38;5;28;01mraise\u001b[39;00m error_class(parsed_response, operation_name)\n\u001b[1;32m   1075\u001b[0m \u001b[38;5;28;01melse\u001b[39;00m:\n\u001b[1;32m   1076\u001b[0m     \u001b[38;5;28;01mreturn\u001b[39;00m parsed_response\n",
      "\u001b[0;31mResourceNotFoundException\u001b[0m: An error occurred (ResourceNotFoundException) when calling the DeleteAgentRuntime operation: Agent with agentId: langgraph_bedrock-p1Ombu8VZz, accountId: 720025708473 not found!"
     ]
    }
   ],
   "source": [
    "agentcore_control_client = boto3.client(\n",
    "    'bedrock-agentcore-control',\n",
    "    region_name=region\n",
    ")\n",
    "ecr_client = boto3.client(\n",
    "    'ecr',\n",
    "    region_name=region\n",
    "    \n",
    ")\n",
    "\n",
    "iam_client = boto3.client('iam')\n",
    "\n",
    "runtime_delete_response = agentcore_control_client.delete_agent_runtime(\n",
    "    agentRuntimeId=launch_result.agent_id\n",
    ")\n",
    "\n",
    "response = ecr_client.delete_repository(\n",
    "    repositoryName=launch_result.ecr_uri.split('/')[1],\n",
    "    force=True\n",
    ")\n",
    "\n",
    "policies = iam_client.list_role_policies(\n",
    "    RoleName=agentcore_iam_role['Role']['RoleName'],\n",
    "    MaxItems=100\n",
    ")\n",
    "\n",
    "for policy_name in policies['PolicyNames']:\n",
    "    iam_client.delete_role_policy(\n",
    "        RoleName=agentcore_role_name,\n",
    "        PolicyName=policy_name\n",
    "    )\n",
    "    \n",
    "iam_response = iam_client.delete_role(\n",
    "    RoleName=agentcore_role_name\n",
    ")"
   ]
  },
  {
   "cell_type": "markdown",
   "id": "b118ad38-feeb-4d1d-9d57-e5c845becc56",
   "metadata": {},
   "source": [
    "# Congratulations!"
   ]
  }
 ],
 "metadata": {
  "kernelspec": {
   "display_name": "Python 3 (ipykernel)",
   "language": "python",
   "name": "python3"
  },
  "language_info": {
   "codemirror_mode": {
    "name": "ipython",
    "version": 3
   },
   "file_extension": ".py",
   "mimetype": "text/x-python",
   "name": "python",
   "nbconvert_exporter": "python",
   "pygments_lexer": "ipython3",
   "version": "3.10.16"
  }
 },
 "nbformat": 4,
 "nbformat_minor": 5
}
